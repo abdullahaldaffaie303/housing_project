{
 "cells": [
  {
   "cell_type": "markdown",
   "metadata": {},
   "source": [
    "## Final Project Submission\n",
    "\n",
    "* Student name: Abdullah Al Daffaie \n",
    "* Student pace: Full Time\n",
    "* Scheduled project review date/time: Monday 01/25/2021\n",
    "* Instructor name: Abhineet\n",
    "------------------------------------------------------------------------"
   ]
  },
  {
   "cell_type": "code",
   "execution_count": 2,
   "metadata": {
    "ExecuteTime": {
     "end_time": "2021-01-26T19:40:36.593911Z",
     "start_time": "2021-01-26T19:40:35.596197Z"
    }
   },
   "outputs": [
    {
     "name": "stdout",
     "output_type": "stream",
     "text": [
      "<class 'pandas.core.frame.DataFrame'>\n",
      "RangeIndex: 21597 entries, 0 to 21596\n",
      "Data columns (total 21 columns):\n",
      " #   Column         Non-Null Count  Dtype  \n",
      "---  ------         --------------  -----  \n",
      " 0   id             21597 non-null  int64  \n",
      " 1   date           21597 non-null  object \n",
      " 2   price          21597 non-null  float64\n",
      " 3   bedrooms       21597 non-null  int64  \n",
      " 4   bathrooms      21597 non-null  float64\n",
      " 5   sqft_living    21597 non-null  int64  \n",
      " 6   sqft_lot       21597 non-null  int64  \n",
      " 7   floors         21597 non-null  float64\n",
      " 8   waterfront     19221 non-null  float64\n",
      " 9   view           21534 non-null  float64\n",
      " 10  condition      21597 non-null  int64  \n",
      " 11  grade          21597 non-null  int64  \n",
      " 12  sqft_above     21597 non-null  int64  \n",
      " 13  sqft_basement  21597 non-null  object \n",
      " 14  yr_built       21597 non-null  int64  \n",
      " 15  yr_renovated   17755 non-null  float64\n",
      " 16  zipcode        21597 non-null  int64  \n",
      " 17  lat            21597 non-null  float64\n",
      " 18  long           21597 non-null  float64\n",
      " 19  sqft_living15  21597 non-null  int64  \n",
      " 20  sqft_lot15     21597 non-null  int64  \n",
      "dtypes: float64(8), int64(11), object(2)\n",
      "memory usage: 3.5+ MB\n"
     ]
    }
   ],
   "source": [
    "# Importing needed libraries \n",
    "# Read CSV file \n",
    "import pandas as pd\n",
    "import numpy as np\n",
    "import matplotlib.pyplot as plt\n",
    "import seaborn as sns\n",
    "from sklearn.linear_model import LinearRegression\n",
    "from sklearn.model_selection import cross_val_score\n",
    "import statsmodels.api as sm\n",
    "\n",
    "df = pd.read_csv('data/kc_house_data.csv')\n",
    "\n",
    "df.info()"
   ]
  },
  {
   "cell_type": "markdown",
   "metadata": {},
   "source": [
    "-Column Names and descriptions for Kings County Data Set-\n",
    "* **id** - unique identified for a house\n",
    "* **dateDate** - house was sold\n",
    "* **pricePrice** -  is prediction target- DEPENDENT \n",
    "* **bedroomsNumber** -  of Bedrooms/House- CATEGORICAL\n",
    "* **bathroomsNumber** -  of bathrooms/bedrooms- CATEGORICAL\n",
    "* **sqft_livingsquare** -  footage of the home- CONTINUOUS \n",
    "* **sqft_lotsquare** -  footage of the lot- CONTINUOUS\n",
    "* **floorsTotal** -  floors (levels) in house\n",
    "* **waterfront** - House which has a view to a waterfront- CATEGORICAL \n",
    "* **view** - Has been viewed- CATEGORICAL\n",
    "* **condition** - How good the condition is ( Overall )- CATEGORICAL \n",
    "* **grade** - overall grade given to the housing unit, based on King County grading system- CATEGORICAL \n",
    "* **sqft_above** - square footage of house apart from basement\n",
    "* **sqft_basement** - square footage of the basement\n",
    "* **yr_built** - Built Year\n",
    "* **yr_renovated** - Year when house was renovated\n",
    "* **zipcode** - zip\n",
    "* **lat** - Latitude coordinate\n",
    "* **long** - Longitude coordinate\n",
    "* **sqft_living15** - The square footage of interior housing living space for the nearest 15 neighbors\n",
    "* **sqft_lot15** - The square footage of the land lots of the nearest 15 neighbors"
   ]
  },
  {
   "cell_type": "code",
   "execution_count": 3,
   "metadata": {
    "ExecuteTime": {
     "end_time": "2021-01-26T19:40:36.666019Z",
     "start_time": "2021-01-26T19:40:36.595790Z"
    }
   },
   "outputs": [
    {
     "data": {
      "text/html": [
       "<div>\n",
       "<style scoped>\n",
       "    .dataframe tbody tr th:only-of-type {\n",
       "        vertical-align: middle;\n",
       "    }\n",
       "\n",
       "    .dataframe tbody tr th {\n",
       "        vertical-align: top;\n",
       "    }\n",
       "\n",
       "    .dataframe thead th {\n",
       "        text-align: right;\n",
       "    }\n",
       "</style>\n",
       "<table border=\"1\" class=\"dataframe\">\n",
       "  <thead>\n",
       "    <tr style=\"text-align: right;\">\n",
       "      <th></th>\n",
       "      <th>id</th>\n",
       "      <th>price</th>\n",
       "      <th>bedrooms</th>\n",
       "      <th>bathrooms</th>\n",
       "      <th>sqft_living</th>\n",
       "      <th>sqft_lot</th>\n",
       "      <th>floors</th>\n",
       "      <th>waterfront</th>\n",
       "      <th>view</th>\n",
       "      <th>condition</th>\n",
       "      <th>grade</th>\n",
       "      <th>sqft_above</th>\n",
       "      <th>yr_built</th>\n",
       "      <th>yr_renovated</th>\n",
       "      <th>zipcode</th>\n",
       "      <th>lat</th>\n",
       "      <th>long</th>\n",
       "      <th>sqft_living15</th>\n",
       "      <th>sqft_lot15</th>\n",
       "    </tr>\n",
       "  </thead>\n",
       "  <tbody>\n",
       "    <tr>\n",
       "      <th>count</th>\n",
       "      <td>2.159700e+04</td>\n",
       "      <td>2.159700e+04</td>\n",
       "      <td>21597.000000</td>\n",
       "      <td>21597.000000</td>\n",
       "      <td>21597.000000</td>\n",
       "      <td>2.159700e+04</td>\n",
       "      <td>21597.000000</td>\n",
       "      <td>19221.000000</td>\n",
       "      <td>21534.000000</td>\n",
       "      <td>21597.000000</td>\n",
       "      <td>21597.000000</td>\n",
       "      <td>21597.000000</td>\n",
       "      <td>21597.000000</td>\n",
       "      <td>17755.000000</td>\n",
       "      <td>21597.000000</td>\n",
       "      <td>21597.000000</td>\n",
       "      <td>21597.000000</td>\n",
       "      <td>21597.000000</td>\n",
       "      <td>21597.000000</td>\n",
       "    </tr>\n",
       "    <tr>\n",
       "      <th>mean</th>\n",
       "      <td>4.580474e+09</td>\n",
       "      <td>5.402966e+05</td>\n",
       "      <td>3.373200</td>\n",
       "      <td>2.115826</td>\n",
       "      <td>2080.321850</td>\n",
       "      <td>1.509941e+04</td>\n",
       "      <td>1.494096</td>\n",
       "      <td>0.007596</td>\n",
       "      <td>0.233863</td>\n",
       "      <td>3.409825</td>\n",
       "      <td>7.657915</td>\n",
       "      <td>1788.596842</td>\n",
       "      <td>1970.999676</td>\n",
       "      <td>83.636778</td>\n",
       "      <td>98077.951845</td>\n",
       "      <td>47.560093</td>\n",
       "      <td>-122.213982</td>\n",
       "      <td>1986.620318</td>\n",
       "      <td>12758.283512</td>\n",
       "    </tr>\n",
       "    <tr>\n",
       "      <th>std</th>\n",
       "      <td>2.876736e+09</td>\n",
       "      <td>3.673681e+05</td>\n",
       "      <td>0.926299</td>\n",
       "      <td>0.768984</td>\n",
       "      <td>918.106125</td>\n",
       "      <td>4.141264e+04</td>\n",
       "      <td>0.539683</td>\n",
       "      <td>0.086825</td>\n",
       "      <td>0.765686</td>\n",
       "      <td>0.650546</td>\n",
       "      <td>1.173200</td>\n",
       "      <td>827.759761</td>\n",
       "      <td>29.375234</td>\n",
       "      <td>399.946414</td>\n",
       "      <td>53.513072</td>\n",
       "      <td>0.138552</td>\n",
       "      <td>0.140724</td>\n",
       "      <td>685.230472</td>\n",
       "      <td>27274.441950</td>\n",
       "    </tr>\n",
       "    <tr>\n",
       "      <th>min</th>\n",
       "      <td>1.000102e+06</td>\n",
       "      <td>7.800000e+04</td>\n",
       "      <td>1.000000</td>\n",
       "      <td>0.500000</td>\n",
       "      <td>370.000000</td>\n",
       "      <td>5.200000e+02</td>\n",
       "      <td>1.000000</td>\n",
       "      <td>0.000000</td>\n",
       "      <td>0.000000</td>\n",
       "      <td>1.000000</td>\n",
       "      <td>3.000000</td>\n",
       "      <td>370.000000</td>\n",
       "      <td>1900.000000</td>\n",
       "      <td>0.000000</td>\n",
       "      <td>98001.000000</td>\n",
       "      <td>47.155900</td>\n",
       "      <td>-122.519000</td>\n",
       "      <td>399.000000</td>\n",
       "      <td>651.000000</td>\n",
       "    </tr>\n",
       "    <tr>\n",
       "      <th>25%</th>\n",
       "      <td>2.123049e+09</td>\n",
       "      <td>3.220000e+05</td>\n",
       "      <td>3.000000</td>\n",
       "      <td>1.750000</td>\n",
       "      <td>1430.000000</td>\n",
       "      <td>5.040000e+03</td>\n",
       "      <td>1.000000</td>\n",
       "      <td>0.000000</td>\n",
       "      <td>0.000000</td>\n",
       "      <td>3.000000</td>\n",
       "      <td>7.000000</td>\n",
       "      <td>1190.000000</td>\n",
       "      <td>1951.000000</td>\n",
       "      <td>0.000000</td>\n",
       "      <td>98033.000000</td>\n",
       "      <td>47.471100</td>\n",
       "      <td>-122.328000</td>\n",
       "      <td>1490.000000</td>\n",
       "      <td>5100.000000</td>\n",
       "    </tr>\n",
       "    <tr>\n",
       "      <th>50%</th>\n",
       "      <td>3.904930e+09</td>\n",
       "      <td>4.500000e+05</td>\n",
       "      <td>3.000000</td>\n",
       "      <td>2.250000</td>\n",
       "      <td>1910.000000</td>\n",
       "      <td>7.618000e+03</td>\n",
       "      <td>1.500000</td>\n",
       "      <td>0.000000</td>\n",
       "      <td>0.000000</td>\n",
       "      <td>3.000000</td>\n",
       "      <td>7.000000</td>\n",
       "      <td>1560.000000</td>\n",
       "      <td>1975.000000</td>\n",
       "      <td>0.000000</td>\n",
       "      <td>98065.000000</td>\n",
       "      <td>47.571800</td>\n",
       "      <td>-122.231000</td>\n",
       "      <td>1840.000000</td>\n",
       "      <td>7620.000000</td>\n",
       "    </tr>\n",
       "    <tr>\n",
       "      <th>75%</th>\n",
       "      <td>7.308900e+09</td>\n",
       "      <td>6.450000e+05</td>\n",
       "      <td>4.000000</td>\n",
       "      <td>2.500000</td>\n",
       "      <td>2550.000000</td>\n",
       "      <td>1.068500e+04</td>\n",
       "      <td>2.000000</td>\n",
       "      <td>0.000000</td>\n",
       "      <td>0.000000</td>\n",
       "      <td>4.000000</td>\n",
       "      <td>8.000000</td>\n",
       "      <td>2210.000000</td>\n",
       "      <td>1997.000000</td>\n",
       "      <td>0.000000</td>\n",
       "      <td>98118.000000</td>\n",
       "      <td>47.678000</td>\n",
       "      <td>-122.125000</td>\n",
       "      <td>2360.000000</td>\n",
       "      <td>10083.000000</td>\n",
       "    </tr>\n",
       "    <tr>\n",
       "      <th>max</th>\n",
       "      <td>9.900000e+09</td>\n",
       "      <td>7.700000e+06</td>\n",
       "      <td>33.000000</td>\n",
       "      <td>8.000000</td>\n",
       "      <td>13540.000000</td>\n",
       "      <td>1.651359e+06</td>\n",
       "      <td>3.500000</td>\n",
       "      <td>1.000000</td>\n",
       "      <td>4.000000</td>\n",
       "      <td>5.000000</td>\n",
       "      <td>13.000000</td>\n",
       "      <td>9410.000000</td>\n",
       "      <td>2015.000000</td>\n",
       "      <td>2015.000000</td>\n",
       "      <td>98199.000000</td>\n",
       "      <td>47.777600</td>\n",
       "      <td>-121.315000</td>\n",
       "      <td>6210.000000</td>\n",
       "      <td>871200.000000</td>\n",
       "    </tr>\n",
       "  </tbody>\n",
       "</table>\n",
       "</div>"
      ],
      "text/plain": [
       "                 id         price      bedrooms     bathrooms   sqft_living  \\\n",
       "count  2.159700e+04  2.159700e+04  21597.000000  21597.000000  21597.000000   \n",
       "mean   4.580474e+09  5.402966e+05      3.373200      2.115826   2080.321850   \n",
       "std    2.876736e+09  3.673681e+05      0.926299      0.768984    918.106125   \n",
       "min    1.000102e+06  7.800000e+04      1.000000      0.500000    370.000000   \n",
       "25%    2.123049e+09  3.220000e+05      3.000000      1.750000   1430.000000   \n",
       "50%    3.904930e+09  4.500000e+05      3.000000      2.250000   1910.000000   \n",
       "75%    7.308900e+09  6.450000e+05      4.000000      2.500000   2550.000000   \n",
       "max    9.900000e+09  7.700000e+06     33.000000      8.000000  13540.000000   \n",
       "\n",
       "           sqft_lot        floors    waterfront          view     condition  \\\n",
       "count  2.159700e+04  21597.000000  19221.000000  21534.000000  21597.000000   \n",
       "mean   1.509941e+04      1.494096      0.007596      0.233863      3.409825   \n",
       "std    4.141264e+04      0.539683      0.086825      0.765686      0.650546   \n",
       "min    5.200000e+02      1.000000      0.000000      0.000000      1.000000   \n",
       "25%    5.040000e+03      1.000000      0.000000      0.000000      3.000000   \n",
       "50%    7.618000e+03      1.500000      0.000000      0.000000      3.000000   \n",
       "75%    1.068500e+04      2.000000      0.000000      0.000000      4.000000   \n",
       "max    1.651359e+06      3.500000      1.000000      4.000000      5.000000   \n",
       "\n",
       "              grade    sqft_above      yr_built  yr_renovated       zipcode  \\\n",
       "count  21597.000000  21597.000000  21597.000000  17755.000000  21597.000000   \n",
       "mean       7.657915   1788.596842   1970.999676     83.636778  98077.951845   \n",
       "std        1.173200    827.759761     29.375234    399.946414     53.513072   \n",
       "min        3.000000    370.000000   1900.000000      0.000000  98001.000000   \n",
       "25%        7.000000   1190.000000   1951.000000      0.000000  98033.000000   \n",
       "50%        7.000000   1560.000000   1975.000000      0.000000  98065.000000   \n",
       "75%        8.000000   2210.000000   1997.000000      0.000000  98118.000000   \n",
       "max       13.000000   9410.000000   2015.000000   2015.000000  98199.000000   \n",
       "\n",
       "                lat          long  sqft_living15     sqft_lot15  \n",
       "count  21597.000000  21597.000000   21597.000000   21597.000000  \n",
       "mean      47.560093   -122.213982    1986.620318   12758.283512  \n",
       "std        0.138552      0.140724     685.230472   27274.441950  \n",
       "min       47.155900   -122.519000     399.000000     651.000000  \n",
       "25%       47.471100   -122.328000    1490.000000    5100.000000  \n",
       "50%       47.571800   -122.231000    1840.000000    7620.000000  \n",
       "75%       47.678000   -122.125000    2360.000000   10083.000000  \n",
       "max       47.777600   -121.315000    6210.000000  871200.000000  "
      ]
     },
     "execution_count": 3,
     "metadata": {},
     "output_type": "execute_result"
    }
   ],
   "source": [
    "# Looking for the median to fill NA \n",
    "df.describe()"
   ]
  },
  {
   "cell_type": "code",
   "execution_count": 4,
   "metadata": {
    "ExecuteTime": {
     "end_time": "2021-01-26T19:40:36.671584Z",
     "start_time": "2021-01-26T19:40:36.668106Z"
    }
   },
   "outputs": [],
   "source": [
    "# Filled NA with median \n",
    "df.fillna({'waterfront': 0, 'view': 0, 'yr_renovated': 0}, inplace= True)"
   ]
  },
  {
   "cell_type": "code",
   "execution_count": 5,
   "metadata": {
    "ExecuteTime": {
     "end_time": "2021-01-26T19:40:36.683766Z",
     "start_time": "2021-01-26T19:40:36.673763Z"
    }
   },
   "outputs": [
    {
     "name": "stdout",
     "output_type": "stream",
     "text": [
      "<class 'pandas.core.frame.DataFrame'>\n",
      "RangeIndex: 21597 entries, 0 to 21596\n",
      "Data columns (total 21 columns):\n",
      " #   Column         Non-Null Count  Dtype  \n",
      "---  ------         --------------  -----  \n",
      " 0   id             21597 non-null  int64  \n",
      " 1   date           21597 non-null  object \n",
      " 2   price          21597 non-null  float64\n",
      " 3   bedrooms       21597 non-null  int64  \n",
      " 4   bathrooms      21597 non-null  float64\n",
      " 5   sqft_living    21597 non-null  int64  \n",
      " 6   sqft_lot       21597 non-null  int64  \n",
      " 7   floors         21597 non-null  float64\n",
      " 8   waterfront     21597 non-null  float64\n",
      " 9   view           21597 non-null  float64\n",
      " 10  condition      21597 non-null  int64  \n",
      " 11  grade          21597 non-null  int64  \n",
      " 12  sqft_above     21597 non-null  int64  \n",
      " 13  sqft_basement  21597 non-null  object \n",
      " 14  yr_built       21597 non-null  int64  \n",
      " 15  yr_renovated   21597 non-null  float64\n",
      " 16  zipcode        21597 non-null  int64  \n",
      " 17  lat            21597 non-null  float64\n",
      " 18  long           21597 non-null  float64\n",
      " 19  sqft_living15  21597 non-null  int64  \n",
      " 20  sqft_lot15     21597 non-null  int64  \n",
      "dtypes: float64(8), int64(11), object(2)\n",
      "memory usage: 3.5+ MB\n"
     ]
    }
   ],
   "source": [
    "df.info()"
   ]
  },
  {
   "cell_type": "code",
   "execution_count": 6,
   "metadata": {
    "ExecuteTime": {
     "end_time": "2021-01-26T19:40:36.884712Z",
     "start_time": "2021-01-26T19:40:36.685284Z"
    }
   },
   "outputs": [
    {
     "name": "stdout",
     "output_type": "stream",
     "text": [
      "id\n",
      "795000620     0.000139\n",
      "1825069031    0.000093\n",
      "2019200220    0.000093\n",
      "7129304540    0.000093\n",
      "1781500435    0.000093\n",
      "Name: id, dtype: float64\n",
      "-------------------------------------------------------------\n",
      "date\n",
      "6/23/2014    0.006575\n",
      "6/25/2014    0.006066\n",
      "6/26/2014    0.006066\n",
      "7/8/2014     0.005880\n",
      "4/27/2015    0.005834\n",
      "Name: date, dtype: float64\n",
      "-------------------------------------------------------------\n",
      "price\n",
      "350000.0    0.007964\n",
      "450000.0    0.007964\n",
      "550000.0    0.007362\n",
      "500000.0    0.007038\n",
      "425000.0    0.006945\n",
      "Name: price, dtype: float64\n",
      "-------------------------------------------------------------\n",
      "bedrooms\n",
      "3    0.454878\n",
      "4    0.318655\n",
      "2    0.127796\n",
      "5    0.074131\n",
      "6    0.012594\n",
      "Name: bedrooms, dtype: float64\n",
      "-------------------------------------------------------------\n",
      "bathrooms\n",
      "2.50    0.248970\n",
      "1.00    0.178312\n",
      "1.75    0.141131\n",
      "2.25    0.094782\n",
      "2.00    0.089364\n",
      "Name: bathrooms, dtype: float64\n",
      "-------------------------------------------------------------\n",
      "sqft_living\n",
      "1300    0.006390\n",
      "1400    0.006251\n",
      "1440    0.006158\n",
      "1660    0.005973\n",
      "1010    0.005973\n",
      "Name: sqft_living, dtype: float64\n",
      "-------------------------------------------------------------\n",
      "sqft_lot\n",
      "5000    0.016576\n",
      "6000    0.013428\n",
      "4000    0.011622\n",
      "7200    0.010187\n",
      "7500    0.005510\n",
      "Name: sqft_lot, dtype: float64\n",
      "-------------------------------------------------------------\n",
      "floors\n",
      "1.0    0.494189\n",
      "2.0    0.381303\n",
      "1.5    0.088438\n",
      "3.0    0.028291\n",
      "2.5    0.007455\n",
      "Name: floors, dtype: float64\n",
      "-------------------------------------------------------------\n",
      "waterfront\n",
      "0.0    0.99324\n",
      "1.0    0.00676\n",
      "Name: waterfront, dtype: float64\n",
      "-------------------------------------------------------------\n",
      "view\n",
      "0.0    0.902209\n",
      "2.0    0.044312\n",
      "3.0    0.023522\n",
      "1.0    0.015280\n",
      "4.0    0.014678\n",
      "Name: view, dtype: float64\n",
      "-------------------------------------------------------------\n",
      "condition\n",
      "3    0.649164\n",
      "4    0.262861\n",
      "5    0.078761\n",
      "2    0.007871\n",
      "1    0.001343\n",
      "Name: condition, dtype: float64\n",
      "-------------------------------------------------------------\n",
      "grade\n",
      "7     0.415521\n",
      "8     0.280826\n",
      "9     0.121082\n",
      "6     0.094365\n",
      "10    0.052507\n",
      "Name: grade, dtype: float64\n",
      "-------------------------------------------------------------\n",
      "sqft_above\n",
      "1300    0.009816\n",
      "1010    0.009724\n",
      "1200    0.009538\n",
      "1220    0.008890\n",
      "1140    0.008520\n",
      "Name: sqft_above, dtype: float64\n",
      "-------------------------------------------------------------\n",
      "sqft_basement\n",
      "0.0      0.593879\n",
      "?        0.021021\n",
      "600.0    0.010048\n",
      "500.0    0.009677\n",
      "700.0    0.009631\n",
      "Name: sqft_basement, dtype: float64\n",
      "-------------------------------------------------------------\n",
      "yr_built\n",
      "2014    0.025883\n",
      "2006    0.020975\n",
      "2005    0.020836\n",
      "2004    0.020049\n",
      "2003    0.019447\n",
      "Name: yr_built, dtype: float64\n",
      "-------------------------------------------------------------\n",
      "yr_renovated\n",
      "0.0       0.965551\n",
      "2014.0    0.003380\n",
      "2003.0    0.001435\n",
      "2013.0    0.001435\n",
      "2007.0    0.001389\n",
      "Name: yr_renovated, dtype: float64\n",
      "-------------------------------------------------------------\n",
      "zipcode\n",
      "98103    0.027874\n",
      "98038    0.027272\n",
      "98115    0.026994\n",
      "98052    0.026578\n",
      "98117    0.025605\n",
      "Name: zipcode, dtype: float64\n",
      "-------------------------------------------------------------\n",
      "lat\n",
      "47.6624    0.000787\n",
      "47.5491    0.000787\n",
      "47.5322    0.000787\n",
      "47.6846    0.000787\n",
      "47.6711    0.000741\n",
      "Name: lat, dtype: float64\n",
      "-------------------------------------------------------------\n",
      "long\n",
      "-122.290    0.005325\n",
      "-122.300    0.005140\n",
      "-122.362    0.004815\n",
      "-122.291    0.004630\n",
      "-122.372    0.004584\n",
      "Name: long, dtype: float64\n",
      "-------------------------------------------------------------\n",
      "sqft_living15\n",
      "1540    0.009122\n",
      "1440    0.009029\n",
      "1560    0.008890\n",
      "1500    0.008334\n",
      "1460    0.007825\n",
      "Name: sqft_living15, dtype: float64\n",
      "-------------------------------------------------------------\n",
      "sqft_lot15\n",
      "5000    0.019771\n",
      "4000    0.016484\n",
      "6000    0.013335\n",
      "7200    0.009724\n",
      "4800    0.006714\n",
      "Name: sqft_lot15, dtype: float64\n",
      "-------------------------------------------------------------\n"
     ]
    }
   ],
   "source": [
    "# Built a for loop to show the top 5 most comment values\n",
    "# Looking for weird values like (/, . , ? , .... etc)\n",
    "for col in df.columns:\n",
    "    print(col)\n",
    "    print(df[col].value_counts(normalize = True, ascending= False).head(5))\n",
    "    print('-------------------------------------------------------------')"
   ]
  },
  {
   "cell_type": "code",
   "execution_count": 7,
   "metadata": {
    "ExecuteTime": {
     "end_time": "2021-01-26T19:40:36.890406Z",
     "start_time": "2021-01-26T19:40:36.886632Z"
    }
   },
   "outputs": [],
   "source": [
    "# replaced weird value (?) in sqft_basement with (0)\n",
    "df.sqft_basement.replace(to_replace= '?', value = 0, inplace=True )"
   ]
  },
  {
   "cell_type": "code",
   "execution_count": 8,
   "metadata": {
    "ExecuteTime": {
     "end_time": "2021-01-26T19:40:36.900264Z",
     "start_time": "2021-01-26T19:40:36.892310Z"
    }
   },
   "outputs": [
    {
     "data": {
      "text/plain": [
       "0.0       0.593879\n",
       "0         0.021021\n",
       "600.0     0.010048\n",
       "500.0     0.009677\n",
       "700.0     0.009631\n",
       "            ...   \n",
       "1548.0    0.000046\n",
       "704.0     0.000046\n",
       "2130.0    0.000046\n",
       "3480.0    0.000046\n",
       "1852.0    0.000046\n",
       "Name: sqft_basement, Length: 304, dtype: float64"
      ]
     },
     "execution_count": 8,
     "metadata": {},
     "output_type": "execute_result"
    }
   ],
   "source": [
    "# Checking if the (?) is replaced with (0)\n",
    "df['sqft_basement'].value_counts(normalize= True)"
   ]
  },
  {
   "cell_type": "code",
   "execution_count": 9,
   "metadata": {
    "ExecuteTime": {
     "end_time": "2021-01-26T19:40:36.912650Z",
     "start_time": "2021-01-26T19:40:36.905177Z"
    }
   },
   "outputs": [],
   "source": [
    "# Changing the data type for sqft_basement from Object to Float\n",
    "df['sqft_basement'] = df['sqft_basement'].astype(str).astype(float)"
   ]
  },
  {
   "cell_type": "code",
   "execution_count": 10,
   "metadata": {
    "ExecuteTime": {
     "end_time": "2021-01-26T19:40:36.927608Z",
     "start_time": "2021-01-26T19:40:36.915384Z"
    }
   },
   "outputs": [
    {
     "name": "stdout",
     "output_type": "stream",
     "text": [
      "<class 'pandas.core.frame.DataFrame'>\n",
      "RangeIndex: 21597 entries, 0 to 21596\n",
      "Data columns (total 21 columns):\n",
      " #   Column         Non-Null Count  Dtype  \n",
      "---  ------         --------------  -----  \n",
      " 0   id             21597 non-null  int64  \n",
      " 1   date           21597 non-null  object \n",
      " 2   price          21597 non-null  float64\n",
      " 3   bedrooms       21597 non-null  int64  \n",
      " 4   bathrooms      21597 non-null  float64\n",
      " 5   sqft_living    21597 non-null  int64  \n",
      " 6   sqft_lot       21597 non-null  int64  \n",
      " 7   floors         21597 non-null  float64\n",
      " 8   waterfront     21597 non-null  float64\n",
      " 9   view           21597 non-null  float64\n",
      " 10  condition      21597 non-null  int64  \n",
      " 11  grade          21597 non-null  int64  \n",
      " 12  sqft_above     21597 non-null  int64  \n",
      " 13  sqft_basement  21597 non-null  float64\n",
      " 14  yr_built       21597 non-null  int64  \n",
      " 15  yr_renovated   21597 non-null  float64\n",
      " 16  zipcode        21597 non-null  int64  \n",
      " 17  lat            21597 non-null  float64\n",
      " 18  long           21597 non-null  float64\n",
      " 19  sqft_living15  21597 non-null  int64  \n",
      " 20  sqft_lot15     21597 non-null  int64  \n",
      "dtypes: float64(9), int64(11), object(1)\n",
      "memory usage: 3.5+ MB\n"
     ]
    }
   ],
   "source": [
    "# checking if the date type for sqft_basement is correct\n",
    "df.info()"
   ]
  },
  {
   "cell_type": "code",
   "execution_count": 11,
   "metadata": {
    "ExecuteTime": {
     "end_time": "2021-01-26T19:40:36.953662Z",
     "start_time": "2021-01-26T19:40:36.929231Z"
    }
   },
   "outputs": [
    {
     "data": {
      "text/html": [
       "<div>\n",
       "<style scoped>\n",
       "    .dataframe tbody tr th:only-of-type {\n",
       "        vertical-align: middle;\n",
       "    }\n",
       "\n",
       "    .dataframe tbody tr th {\n",
       "        vertical-align: top;\n",
       "    }\n",
       "\n",
       "    .dataframe thead th {\n",
       "        text-align: right;\n",
       "    }\n",
       "</style>\n",
       "<table border=\"1\" class=\"dataframe\">\n",
       "  <thead>\n",
       "    <tr style=\"text-align: right;\">\n",
       "      <th></th>\n",
       "      <th>id</th>\n",
       "      <th>date</th>\n",
       "      <th>price</th>\n",
       "      <th>bedrooms</th>\n",
       "      <th>bathrooms</th>\n",
       "      <th>sqft_living</th>\n",
       "      <th>sqft_lot</th>\n",
       "      <th>floors</th>\n",
       "      <th>waterfront</th>\n",
       "      <th>view</th>\n",
       "      <th>...</th>\n",
       "      <th>grade</th>\n",
       "      <th>sqft_above</th>\n",
       "      <th>sqft_basement</th>\n",
       "      <th>yr_built</th>\n",
       "      <th>yr_renovated</th>\n",
       "      <th>zipcode</th>\n",
       "      <th>lat</th>\n",
       "      <th>long</th>\n",
       "      <th>sqft_living15</th>\n",
       "      <th>sqft_lot15</th>\n",
       "    </tr>\n",
       "  </thead>\n",
       "  <tbody>\n",
       "    <tr>\n",
       "      <th>0</th>\n",
       "      <td>7129300520</td>\n",
       "      <td>10/13/2014</td>\n",
       "      <td>221900.0</td>\n",
       "      <td>3</td>\n",
       "      <td>1.00</td>\n",
       "      <td>1180</td>\n",
       "      <td>5650</td>\n",
       "      <td>1.0</td>\n",
       "      <td>0.0</td>\n",
       "      <td>0.0</td>\n",
       "      <td>...</td>\n",
       "      <td>7</td>\n",
       "      <td>1180</td>\n",
       "      <td>0.0</td>\n",
       "      <td>1955</td>\n",
       "      <td>0.0</td>\n",
       "      <td>98178</td>\n",
       "      <td>47.5112</td>\n",
       "      <td>-122.257</td>\n",
       "      <td>1340</td>\n",
       "      <td>5650</td>\n",
       "    </tr>\n",
       "    <tr>\n",
       "      <th>1</th>\n",
       "      <td>6414100192</td>\n",
       "      <td>12/9/2014</td>\n",
       "      <td>538000.0</td>\n",
       "      <td>3</td>\n",
       "      <td>2.25</td>\n",
       "      <td>2570</td>\n",
       "      <td>7242</td>\n",
       "      <td>2.0</td>\n",
       "      <td>0.0</td>\n",
       "      <td>0.0</td>\n",
       "      <td>...</td>\n",
       "      <td>7</td>\n",
       "      <td>2170</td>\n",
       "      <td>400.0</td>\n",
       "      <td>1951</td>\n",
       "      <td>1991.0</td>\n",
       "      <td>98125</td>\n",
       "      <td>47.7210</td>\n",
       "      <td>-122.319</td>\n",
       "      <td>1690</td>\n",
       "      <td>7639</td>\n",
       "    </tr>\n",
       "    <tr>\n",
       "      <th>2</th>\n",
       "      <td>5631500400</td>\n",
       "      <td>2/25/2015</td>\n",
       "      <td>180000.0</td>\n",
       "      <td>2</td>\n",
       "      <td>1.00</td>\n",
       "      <td>770</td>\n",
       "      <td>10000</td>\n",
       "      <td>1.0</td>\n",
       "      <td>0.0</td>\n",
       "      <td>0.0</td>\n",
       "      <td>...</td>\n",
       "      <td>6</td>\n",
       "      <td>770</td>\n",
       "      <td>0.0</td>\n",
       "      <td>1933</td>\n",
       "      <td>0.0</td>\n",
       "      <td>98028</td>\n",
       "      <td>47.7379</td>\n",
       "      <td>-122.233</td>\n",
       "      <td>2720</td>\n",
       "      <td>8062</td>\n",
       "    </tr>\n",
       "    <tr>\n",
       "      <th>3</th>\n",
       "      <td>2487200875</td>\n",
       "      <td>12/9/2014</td>\n",
       "      <td>604000.0</td>\n",
       "      <td>4</td>\n",
       "      <td>3.00</td>\n",
       "      <td>1960</td>\n",
       "      <td>5000</td>\n",
       "      <td>1.0</td>\n",
       "      <td>0.0</td>\n",
       "      <td>0.0</td>\n",
       "      <td>...</td>\n",
       "      <td>7</td>\n",
       "      <td>1050</td>\n",
       "      <td>910.0</td>\n",
       "      <td>1965</td>\n",
       "      <td>0.0</td>\n",
       "      <td>98136</td>\n",
       "      <td>47.5208</td>\n",
       "      <td>-122.393</td>\n",
       "      <td>1360</td>\n",
       "      <td>5000</td>\n",
       "    </tr>\n",
       "    <tr>\n",
       "      <th>4</th>\n",
       "      <td>1954400510</td>\n",
       "      <td>2/18/2015</td>\n",
       "      <td>510000.0</td>\n",
       "      <td>3</td>\n",
       "      <td>2.00</td>\n",
       "      <td>1680</td>\n",
       "      <td>8080</td>\n",
       "      <td>1.0</td>\n",
       "      <td>0.0</td>\n",
       "      <td>0.0</td>\n",
       "      <td>...</td>\n",
       "      <td>8</td>\n",
       "      <td>1680</td>\n",
       "      <td>0.0</td>\n",
       "      <td>1987</td>\n",
       "      <td>0.0</td>\n",
       "      <td>98074</td>\n",
       "      <td>47.6168</td>\n",
       "      <td>-122.045</td>\n",
       "      <td>1800</td>\n",
       "      <td>7503</td>\n",
       "    </tr>\n",
       "  </tbody>\n",
       "</table>\n",
       "<p>5 rows × 21 columns</p>\n",
       "</div>"
      ],
      "text/plain": [
       "           id        date     price  bedrooms  bathrooms  sqft_living  \\\n",
       "0  7129300520  10/13/2014  221900.0         3       1.00         1180   \n",
       "1  6414100192   12/9/2014  538000.0         3       2.25         2570   \n",
       "2  5631500400   2/25/2015  180000.0         2       1.00          770   \n",
       "3  2487200875   12/9/2014  604000.0         4       3.00         1960   \n",
       "4  1954400510   2/18/2015  510000.0         3       2.00         1680   \n",
       "\n",
       "   sqft_lot  floors  waterfront  view  ...  grade  sqft_above  sqft_basement  \\\n",
       "0      5650     1.0         0.0   0.0  ...      7        1180            0.0   \n",
       "1      7242     2.0         0.0   0.0  ...      7        2170          400.0   \n",
       "2     10000     1.0         0.0   0.0  ...      6         770            0.0   \n",
       "3      5000     1.0         0.0   0.0  ...      7        1050          910.0   \n",
       "4      8080     1.0         0.0   0.0  ...      8        1680            0.0   \n",
       "\n",
       "   yr_built  yr_renovated  zipcode      lat     long  sqft_living15  \\\n",
       "0      1955           0.0    98178  47.5112 -122.257           1340   \n",
       "1      1951        1991.0    98125  47.7210 -122.319           1690   \n",
       "2      1933           0.0    98028  47.7379 -122.233           2720   \n",
       "3      1965           0.0    98136  47.5208 -122.393           1360   \n",
       "4      1987           0.0    98074  47.6168 -122.045           1800   \n",
       "\n",
       "   sqft_lot15  \n",
       "0        5650  \n",
       "1        7639  \n",
       "2        8062  \n",
       "3        5000  \n",
       "4        7503  \n",
       "\n",
       "[5 rows x 21 columns]"
      ]
     },
     "execution_count": 11,
     "metadata": {},
     "output_type": "execute_result"
    }
   ],
   "source": [
    "df.head()"
   ]
  },
  {
   "cell_type": "code",
   "execution_count": 12,
   "metadata": {
    "ExecuteTime": {
     "end_time": "2021-01-26T19:40:38.815330Z",
     "start_time": "2021-01-26T19:40:36.955492Z"
    }
   },
   "outputs": [
    {
     "data": {
      "text/plain": [
       "array([[<matplotlib.axes._subplots.AxesSubplot object at 0x7f8214d57eb0>,\n",
       "        <matplotlib.axes._subplots.AxesSubplot object at 0x7f8219a173a0>,\n",
       "        <matplotlib.axes._subplots.AxesSubplot object at 0x7f8219a75820>,\n",
       "        <matplotlib.axes._subplots.AxesSubplot object at 0x7f8219aa1ca0>],\n",
       "       [<matplotlib.axes._subplots.AxesSubplot object at 0x7f8219adb130>,\n",
       "        <matplotlib.axes._subplots.AxesSubplot object at 0x7f8219b074c0>,\n",
       "        <matplotlib.axes._subplots.AxesSubplot object at 0x7f8219b075b0>,\n",
       "        <matplotlib.axes._subplots.AxesSubplot object at 0x7f8219d52a60>],\n",
       "       [<matplotlib.axes._subplots.AxesSubplot object at 0x7f8219db72b0>,\n",
       "        <matplotlib.axes._subplots.AxesSubplot object at 0x7f8219de3700>,\n",
       "        <matplotlib.axes._subplots.AxesSubplot object at 0x7f8219f13b80>,\n",
       "        <matplotlib.axes._subplots.AxesSubplot object at 0x7f8219f40fd0>],\n",
       "       [<matplotlib.axes._subplots.AxesSubplot object at 0x7f8219f78460>,\n",
       "        <matplotlib.axes._subplots.AxesSubplot object at 0x7f8219fa18b0>,\n",
       "        <matplotlib.axes._subplots.AxesSubplot object at 0x7f8219fd0d00>,\n",
       "        <matplotlib.axes._subplots.AxesSubplot object at 0x7f821a0071c0>],\n",
       "       [<matplotlib.axes._subplots.AxesSubplot object at 0x7f821a033640>,\n",
       "        <matplotlib.axes._subplots.AxesSubplot object at 0x7f821a061a90>,\n",
       "        <matplotlib.axes._subplots.AxesSubplot object at 0x7f821a08fee0>,\n",
       "        <matplotlib.axes._subplots.AxesSubplot object at 0x7f821a0c7370>]],\n",
       "      dtype=object)"
      ]
     },
     "execution_count": 12,
     "metadata": {},
     "output_type": "execute_result"
    },
    {
     "data": {
      "image/png": "[encoded data removed]",
      "text/plain": [
       "<Figure size 864x1008 with 20 Axes>"
      ]
     },
     "metadata": {
      "needs_background": "light"
     },
     "output_type": "display_data"
    }
   ],
   "source": [
    "# Graphing all the columns to have an idea of their values \n",
    "df.hist(figsize= (12,14))"
   ]
  },
  {
   "cell_type": "code",
   "execution_count": 13,
   "metadata": {
    "ExecuteTime": {
     "end_time": "2021-01-26T19:40:38.857883Z",
     "start_time": "2021-01-26T19:40:38.817293Z"
    }
   },
   "outputs": [
    {
     "data": {
      "text/html": [
       "<div>\n",
       "<style scoped>\n",
       "    .dataframe tbody tr th:only-of-type {\n",
       "        vertical-align: middle;\n",
       "    }\n",
       "\n",
       "    .dataframe tbody tr th {\n",
       "        vertical-align: top;\n",
       "    }\n",
       "\n",
       "    .dataframe thead th {\n",
       "        text-align: right;\n",
       "    }\n",
       "</style>\n",
       "<table border=\"1\" class=\"dataframe\">\n",
       "  <thead>\n",
       "    <tr style=\"text-align: right;\">\n",
       "      <th></th>\n",
       "      <th>id</th>\n",
       "      <th>price</th>\n",
       "      <th>bedrooms</th>\n",
       "      <th>bathrooms</th>\n",
       "      <th>sqft_living</th>\n",
       "      <th>sqft_lot</th>\n",
       "      <th>floors</th>\n",
       "      <th>waterfront</th>\n",
       "      <th>view</th>\n",
       "      <th>condition</th>\n",
       "      <th>grade</th>\n",
       "      <th>sqft_above</th>\n",
       "      <th>sqft_basement</th>\n",
       "      <th>yr_built</th>\n",
       "      <th>yr_renovated</th>\n",
       "      <th>zipcode</th>\n",
       "      <th>lat</th>\n",
       "      <th>long</th>\n",
       "      <th>sqft_living15</th>\n",
       "      <th>sqft_lot15</th>\n",
       "    </tr>\n",
       "  </thead>\n",
       "  <tbody>\n",
       "    <tr>\n",
       "      <th>id</th>\n",
       "      <td>1.000000</td>\n",
       "      <td>-0.016772</td>\n",
       "      <td>0.001150</td>\n",
       "      <td>0.005162</td>\n",
       "      <td>-0.012241</td>\n",
       "      <td>-0.131911</td>\n",
       "      <td>0.018608</td>\n",
       "      <td>-0.003599</td>\n",
       "      <td>0.011772</td>\n",
       "      <td>-0.023803</td>\n",
       "      <td>0.008188</td>\n",
       "      <td>-0.010799</td>\n",
       "      <td>-0.004359</td>\n",
       "      <td>0.021617</td>\n",
       "      <td>-0.010612</td>\n",
       "      <td>-0.008211</td>\n",
       "      <td>-0.001798</td>\n",
       "      <td>0.020672</td>\n",
       "      <td>-0.002701</td>\n",
       "      <td>-0.138557</td>\n",
       "    </tr>\n",
       "    <tr>\n",
       "      <th>price</th>\n",
       "      <td>-0.016772</td>\n",
       "      <td>1.000000</td>\n",
       "      <td>0.308787</td>\n",
       "      <td>0.525906</td>\n",
       "      <td>0.701917</td>\n",
       "      <td>0.089876</td>\n",
       "      <td>0.256804</td>\n",
       "      <td>0.264306</td>\n",
       "      <td>0.393497</td>\n",
       "      <td>0.036056</td>\n",
       "      <td>0.667951</td>\n",
       "      <td>0.605368</td>\n",
       "      <td>0.321108</td>\n",
       "      <td>0.053953</td>\n",
       "      <td>0.117855</td>\n",
       "      <td>-0.053402</td>\n",
       "      <td>0.306692</td>\n",
       "      <td>0.022036</td>\n",
       "      <td>0.585241</td>\n",
       "      <td>0.082845</td>\n",
       "    </tr>\n",
       "    <tr>\n",
       "      <th>bedrooms</th>\n",
       "      <td>0.001150</td>\n",
       "      <td>0.308787</td>\n",
       "      <td>1.000000</td>\n",
       "      <td>0.514508</td>\n",
       "      <td>0.578212</td>\n",
       "      <td>0.032471</td>\n",
       "      <td>0.177944</td>\n",
       "      <td>-0.002127</td>\n",
       "      <td>0.078354</td>\n",
       "      <td>0.026496</td>\n",
       "      <td>0.356563</td>\n",
       "      <td>0.479386</td>\n",
       "      <td>0.297229</td>\n",
       "      <td>0.155670</td>\n",
       "      <td>0.017900</td>\n",
       "      <td>-0.154092</td>\n",
       "      <td>-0.009951</td>\n",
       "      <td>0.132054</td>\n",
       "      <td>0.393406</td>\n",
       "      <td>0.030690</td>\n",
       "    </tr>\n",
       "    <tr>\n",
       "      <th>bathrooms</th>\n",
       "      <td>0.005162</td>\n",
       "      <td>0.525906</td>\n",
       "      <td>0.514508</td>\n",
       "      <td>1.000000</td>\n",
       "      <td>0.755758</td>\n",
       "      <td>0.088373</td>\n",
       "      <td>0.502582</td>\n",
       "      <td>0.063629</td>\n",
       "      <td>0.186016</td>\n",
       "      <td>-0.126479</td>\n",
       "      <td>0.665838</td>\n",
       "      <td>0.686668</td>\n",
       "      <td>0.278485</td>\n",
       "      <td>0.507173</td>\n",
       "      <td>0.047177</td>\n",
       "      <td>-0.204786</td>\n",
       "      <td>0.024280</td>\n",
       "      <td>0.224903</td>\n",
       "      <td>0.569884</td>\n",
       "      <td>0.088303</td>\n",
       "    </tr>\n",
       "    <tr>\n",
       "      <th>sqft_living</th>\n",
       "      <td>-0.012241</td>\n",
       "      <td>0.701917</td>\n",
       "      <td>0.578212</td>\n",
       "      <td>0.755758</td>\n",
       "      <td>1.000000</td>\n",
       "      <td>0.173453</td>\n",
       "      <td>0.353953</td>\n",
       "      <td>0.104637</td>\n",
       "      <td>0.281715</td>\n",
       "      <td>-0.059445</td>\n",
       "      <td>0.762779</td>\n",
       "      <td>0.876448</td>\n",
       "      <td>0.428660</td>\n",
       "      <td>0.318152</td>\n",
       "      <td>0.051060</td>\n",
       "      <td>-0.199802</td>\n",
       "      <td>0.052155</td>\n",
       "      <td>0.241214</td>\n",
       "      <td>0.756402</td>\n",
       "      <td>0.184342</td>\n",
       "    </tr>\n",
       "    <tr>\n",
       "      <th>sqft_lot</th>\n",
       "      <td>-0.131911</td>\n",
       "      <td>0.089876</td>\n",
       "      <td>0.032471</td>\n",
       "      <td>0.088373</td>\n",
       "      <td>0.173453</td>\n",
       "      <td>1.000000</td>\n",
       "      <td>-0.004814</td>\n",
       "      <td>0.021459</td>\n",
       "      <td>0.075054</td>\n",
       "      <td>-0.008830</td>\n",
       "      <td>0.114731</td>\n",
       "      <td>0.184139</td>\n",
       "      <td>0.015031</td>\n",
       "      <td>0.052946</td>\n",
       "      <td>0.004979</td>\n",
       "      <td>-0.129586</td>\n",
       "      <td>-0.085514</td>\n",
       "      <td>0.230227</td>\n",
       "      <td>0.144763</td>\n",
       "      <td>0.718204</td>\n",
       "    </tr>\n",
       "    <tr>\n",
       "      <th>floors</th>\n",
       "      <td>0.018608</td>\n",
       "      <td>0.256804</td>\n",
       "      <td>0.177944</td>\n",
       "      <td>0.502582</td>\n",
       "      <td>0.353953</td>\n",
       "      <td>-0.004814</td>\n",
       "      <td>1.000000</td>\n",
       "      <td>0.020797</td>\n",
       "      <td>0.028414</td>\n",
       "      <td>-0.264075</td>\n",
       "      <td>0.458794</td>\n",
       "      <td>0.523989</td>\n",
       "      <td>-0.241866</td>\n",
       "      <td>0.489193</td>\n",
       "      <td>0.003793</td>\n",
       "      <td>-0.059541</td>\n",
       "      <td>0.049239</td>\n",
       "      <td>0.125943</td>\n",
       "      <td>0.280102</td>\n",
       "      <td>-0.010722</td>\n",
       "    </tr>\n",
       "    <tr>\n",
       "      <th>waterfront</th>\n",
       "      <td>-0.003599</td>\n",
       "      <td>0.264306</td>\n",
       "      <td>-0.002127</td>\n",
       "      <td>0.063629</td>\n",
       "      <td>0.104637</td>\n",
       "      <td>0.021459</td>\n",
       "      <td>0.020797</td>\n",
       "      <td>1.000000</td>\n",
       "      <td>0.380543</td>\n",
       "      <td>0.016648</td>\n",
       "      <td>0.082818</td>\n",
       "      <td>0.071778</td>\n",
       "      <td>0.083050</td>\n",
       "      <td>-0.024487</td>\n",
       "      <td>0.073939</td>\n",
       "      <td>0.028923</td>\n",
       "      <td>-0.012157</td>\n",
       "      <td>-0.037628</td>\n",
       "      <td>0.083823</td>\n",
       "      <td>0.030658</td>\n",
       "    </tr>\n",
       "    <tr>\n",
       "      <th>view</th>\n",
       "      <td>0.011772</td>\n",
       "      <td>0.393497</td>\n",
       "      <td>0.078354</td>\n",
       "      <td>0.186016</td>\n",
       "      <td>0.281715</td>\n",
       "      <td>0.075054</td>\n",
       "      <td>0.028414</td>\n",
       "      <td>0.380543</td>\n",
       "      <td>1.000000</td>\n",
       "      <td>0.045622</td>\n",
       "      <td>0.249082</td>\n",
       "      <td>0.166017</td>\n",
       "      <td>0.270629</td>\n",
       "      <td>-0.054452</td>\n",
       "      <td>0.090339</td>\n",
       "      <td>0.085059</td>\n",
       "      <td>0.006321</td>\n",
       "      <td>-0.077702</td>\n",
       "      <td>0.278928</td>\n",
       "      <td>0.073083</td>\n",
       "    </tr>\n",
       "    <tr>\n",
       "      <th>condition</th>\n",
       "      <td>-0.023803</td>\n",
       "      <td>0.036056</td>\n",
       "      <td>0.026496</td>\n",
       "      <td>-0.126479</td>\n",
       "      <td>-0.059445</td>\n",
       "      <td>-0.008830</td>\n",
       "      <td>-0.264075</td>\n",
       "      <td>0.016648</td>\n",
       "      <td>0.045622</td>\n",
       "      <td>1.000000</td>\n",
       "      <td>-0.146896</td>\n",
       "      <td>-0.158904</td>\n",
       "      <td>0.168482</td>\n",
       "      <td>-0.361592</td>\n",
       "      <td>-0.055808</td>\n",
       "      <td>0.002888</td>\n",
       "      <td>-0.015102</td>\n",
       "      <td>-0.105877</td>\n",
       "      <td>-0.093072</td>\n",
       "      <td>-0.003126</td>\n",
       "    </tr>\n",
       "    <tr>\n",
       "      <th>grade</th>\n",
       "      <td>0.008188</td>\n",
       "      <td>0.667951</td>\n",
       "      <td>0.356563</td>\n",
       "      <td>0.665838</td>\n",
       "      <td>0.762779</td>\n",
       "      <td>0.114731</td>\n",
       "      <td>0.458794</td>\n",
       "      <td>0.082818</td>\n",
       "      <td>0.249082</td>\n",
       "      <td>-0.146896</td>\n",
       "      <td>1.000000</td>\n",
       "      <td>0.756073</td>\n",
       "      <td>0.165843</td>\n",
       "      <td>0.447865</td>\n",
       "      <td>0.015623</td>\n",
       "      <td>-0.185771</td>\n",
       "      <td>0.113575</td>\n",
       "      <td>0.200341</td>\n",
       "      <td>0.713867</td>\n",
       "      <td>0.120981</td>\n",
       "    </tr>\n",
       "    <tr>\n",
       "      <th>sqft_above</th>\n",
       "      <td>-0.010799</td>\n",
       "      <td>0.605368</td>\n",
       "      <td>0.479386</td>\n",
       "      <td>0.686668</td>\n",
       "      <td>0.876448</td>\n",
       "      <td>0.184139</td>\n",
       "      <td>0.523989</td>\n",
       "      <td>0.071778</td>\n",
       "      <td>0.166017</td>\n",
       "      <td>-0.158904</td>\n",
       "      <td>0.756073</td>\n",
       "      <td>1.000000</td>\n",
       "      <td>-0.051175</td>\n",
       "      <td>0.424037</td>\n",
       "      <td>0.020645</td>\n",
       "      <td>-0.261570</td>\n",
       "      <td>-0.001199</td>\n",
       "      <td>0.344842</td>\n",
       "      <td>0.731767</td>\n",
       "      <td>0.195077</td>\n",
       "    </tr>\n",
       "    <tr>\n",
       "      <th>sqft_basement</th>\n",
       "      <td>-0.004359</td>\n",
       "      <td>0.321108</td>\n",
       "      <td>0.297229</td>\n",
       "      <td>0.278485</td>\n",
       "      <td>0.428660</td>\n",
       "      <td>0.015031</td>\n",
       "      <td>-0.241866</td>\n",
       "      <td>0.083050</td>\n",
       "      <td>0.270629</td>\n",
       "      <td>0.168482</td>\n",
       "      <td>0.165843</td>\n",
       "      <td>-0.051175</td>\n",
       "      <td>1.000000</td>\n",
       "      <td>-0.130085</td>\n",
       "      <td>0.065008</td>\n",
       "      <td>0.073271</td>\n",
       "      <td>0.109853</td>\n",
       "      <td>-0.142369</td>\n",
       "      <td>0.199288</td>\n",
       "      <td>0.015885</td>\n",
       "    </tr>\n",
       "    <tr>\n",
       "      <th>yr_built</th>\n",
       "      <td>0.021617</td>\n",
       "      <td>0.053953</td>\n",
       "      <td>0.155670</td>\n",
       "      <td>0.507173</td>\n",
       "      <td>0.318152</td>\n",
       "      <td>0.052946</td>\n",
       "      <td>0.489193</td>\n",
       "      <td>-0.024487</td>\n",
       "      <td>-0.054452</td>\n",
       "      <td>-0.361592</td>\n",
       "      <td>0.447865</td>\n",
       "      <td>0.424037</td>\n",
       "      <td>-0.130085</td>\n",
       "      <td>1.000000</td>\n",
       "      <td>-0.202555</td>\n",
       "      <td>-0.347210</td>\n",
       "      <td>-0.148370</td>\n",
       "      <td>0.409993</td>\n",
       "      <td>0.326377</td>\n",
       "      <td>0.070777</td>\n",
       "    </tr>\n",
       "    <tr>\n",
       "      <th>yr_renovated</th>\n",
       "      <td>-0.010612</td>\n",
       "      <td>0.117855</td>\n",
       "      <td>0.017900</td>\n",
       "      <td>0.047177</td>\n",
       "      <td>0.051060</td>\n",
       "      <td>0.004979</td>\n",
       "      <td>0.003793</td>\n",
       "      <td>0.073939</td>\n",
       "      <td>0.090339</td>\n",
       "      <td>-0.055808</td>\n",
       "      <td>0.015623</td>\n",
       "      <td>0.020645</td>\n",
       "      <td>0.065008</td>\n",
       "      <td>-0.202555</td>\n",
       "      <td>1.000000</td>\n",
       "      <td>0.062397</td>\n",
       "      <td>0.027970</td>\n",
       "      <td>-0.064543</td>\n",
       "      <td>0.000683</td>\n",
       "      <td>0.004286</td>\n",
       "    </tr>\n",
       "    <tr>\n",
       "      <th>zipcode</th>\n",
       "      <td>-0.008211</td>\n",
       "      <td>-0.053402</td>\n",
       "      <td>-0.154092</td>\n",
       "      <td>-0.204786</td>\n",
       "      <td>-0.199802</td>\n",
       "      <td>-0.129586</td>\n",
       "      <td>-0.059541</td>\n",
       "      <td>0.028923</td>\n",
       "      <td>0.085059</td>\n",
       "      <td>0.002888</td>\n",
       "      <td>-0.185771</td>\n",
       "      <td>-0.261570</td>\n",
       "      <td>0.073271</td>\n",
       "      <td>-0.347210</td>\n",
       "      <td>0.062397</td>\n",
       "      <td>1.000000</td>\n",
       "      <td>0.266742</td>\n",
       "      <td>-0.564259</td>\n",
       "      <td>-0.279299</td>\n",
       "      <td>-0.147294</td>\n",
       "    </tr>\n",
       "    <tr>\n",
       "      <th>lat</th>\n",
       "      <td>-0.001798</td>\n",
       "      <td>0.306692</td>\n",
       "      <td>-0.009951</td>\n",
       "      <td>0.024280</td>\n",
       "      <td>0.052155</td>\n",
       "      <td>-0.085514</td>\n",
       "      <td>0.049239</td>\n",
       "      <td>-0.012157</td>\n",
       "      <td>0.006321</td>\n",
       "      <td>-0.015102</td>\n",
       "      <td>0.113575</td>\n",
       "      <td>-0.001199</td>\n",
       "      <td>0.109853</td>\n",
       "      <td>-0.148370</td>\n",
       "      <td>0.027970</td>\n",
       "      <td>0.266742</td>\n",
       "      <td>1.000000</td>\n",
       "      <td>-0.135371</td>\n",
       "      <td>0.048679</td>\n",
       "      <td>-0.086139</td>\n",
       "    </tr>\n",
       "    <tr>\n",
       "      <th>long</th>\n",
       "      <td>0.020672</td>\n",
       "      <td>0.022036</td>\n",
       "      <td>0.132054</td>\n",
       "      <td>0.224903</td>\n",
       "      <td>0.241214</td>\n",
       "      <td>0.230227</td>\n",
       "      <td>0.125943</td>\n",
       "      <td>-0.037628</td>\n",
       "      <td>-0.077702</td>\n",
       "      <td>-0.105877</td>\n",
       "      <td>0.200341</td>\n",
       "      <td>0.344842</td>\n",
       "      <td>-0.142369</td>\n",
       "      <td>0.409993</td>\n",
       "      <td>-0.064543</td>\n",
       "      <td>-0.564259</td>\n",
       "      <td>-0.135371</td>\n",
       "      <td>1.000000</td>\n",
       "      <td>0.335626</td>\n",
       "      <td>0.255586</td>\n",
       "    </tr>\n",
       "    <tr>\n",
       "      <th>sqft_living15</th>\n",
       "      <td>-0.002701</td>\n",
       "      <td>0.585241</td>\n",
       "      <td>0.393406</td>\n",
       "      <td>0.569884</td>\n",
       "      <td>0.756402</td>\n",
       "      <td>0.144763</td>\n",
       "      <td>0.280102</td>\n",
       "      <td>0.083823</td>\n",
       "      <td>0.278928</td>\n",
       "      <td>-0.093072</td>\n",
       "      <td>0.713867</td>\n",
       "      <td>0.731767</td>\n",
       "      <td>0.199288</td>\n",
       "      <td>0.326377</td>\n",
       "      <td>0.000683</td>\n",
       "      <td>-0.279299</td>\n",
       "      <td>0.048679</td>\n",
       "      <td>0.335626</td>\n",
       "      <td>1.000000</td>\n",
       "      <td>0.183515</td>\n",
       "    </tr>\n",
       "    <tr>\n",
       "      <th>sqft_lot15</th>\n",
       "      <td>-0.138557</td>\n",
       "      <td>0.082845</td>\n",
       "      <td>0.030690</td>\n",
       "      <td>0.088303</td>\n",
       "      <td>0.184342</td>\n",
       "      <td>0.718204</td>\n",
       "      <td>-0.010722</td>\n",
       "      <td>0.030658</td>\n",
       "      <td>0.073083</td>\n",
       "      <td>-0.003126</td>\n",
       "      <td>0.120981</td>\n",
       "      <td>0.195077</td>\n",
       "      <td>0.015885</td>\n",
       "      <td>0.070777</td>\n",
       "      <td>0.004286</td>\n",
       "      <td>-0.147294</td>\n",
       "      <td>-0.086139</td>\n",
       "      <td>0.255586</td>\n",
       "      <td>0.183515</td>\n",
       "      <td>1.000000</td>\n",
       "    </tr>\n",
       "  </tbody>\n",
       "</table>\n",
       "</div>"
      ],
      "text/plain": [
       "                     id     price  bedrooms  bathrooms  sqft_living  sqft_lot  \\\n",
       "id             1.000000 -0.016772  0.001150   0.005162    -0.012241 -0.131911   \n",
       "price         -0.016772  1.000000  0.308787   0.525906     0.701917  0.089876   \n",
       "bedrooms       0.001150  0.308787  1.000000   0.514508     0.578212  0.032471   \n",
       "bathrooms      0.005162  0.525906  0.514508   1.000000     0.755758  0.088373   \n",
       "sqft_living   -0.012241  0.701917  0.578212   0.755758     1.000000  0.173453   \n",
       "sqft_lot      -0.131911  0.089876  0.032471   0.088373     0.173453  1.000000   \n",
       "floors         0.018608  0.256804  0.177944   0.502582     0.353953 -0.004814   \n",
       "waterfront    -0.003599  0.264306 -0.002127   0.063629     0.104637  0.021459   \n",
       "view           0.011772  0.393497  0.078354   0.186016     0.281715  0.075054   \n",
       "condition     -0.023803  0.036056  0.026496  -0.126479    -0.059445 -0.008830   \n",
       "grade          0.008188  0.667951  0.356563   0.665838     0.762779  0.114731   \n",
       "sqft_above    -0.010799  0.605368  0.479386   0.686668     0.876448  0.184139   \n",
       "sqft_basement -0.004359  0.321108  0.297229   0.278485     0.428660  0.015031   \n",
       "yr_built       0.021617  0.053953  0.155670   0.507173     0.318152  0.052946   \n",
       "yr_renovated  -0.010612  0.117855  0.017900   0.047177     0.051060  0.004979   \n",
       "zipcode       -0.008211 -0.053402 -0.154092  -0.204786    -0.199802 -0.129586   \n",
       "lat           -0.001798  0.306692 -0.009951   0.024280     0.052155 -0.085514   \n",
       "long           0.020672  0.022036  0.132054   0.224903     0.241214  0.230227   \n",
       "sqft_living15 -0.002701  0.585241  0.393406   0.569884     0.756402  0.144763   \n",
       "sqft_lot15    -0.138557  0.082845  0.030690   0.088303     0.184342  0.718204   \n",
       "\n",
       "                 floors  waterfront      view  condition     grade  \\\n",
       "id             0.018608   -0.003599  0.011772  -0.023803  0.008188   \n",
       "price          0.256804    0.264306  0.393497   0.036056  0.667951   \n",
       "bedrooms       0.177944   -0.002127  0.078354   0.026496  0.356563   \n",
       "bathrooms      0.502582    0.063629  0.186016  -0.126479  0.665838   \n",
       "sqft_living    0.353953    0.104637  0.281715  -0.059445  0.762779   \n",
       "sqft_lot      -0.004814    0.021459  0.075054  -0.008830  0.114731   \n",
       "floors         1.000000    0.020797  0.028414  -0.264075  0.458794   \n",
       "waterfront     0.020797    1.000000  0.380543   0.016648  0.082818   \n",
       "view           0.028414    0.380543  1.000000   0.045622  0.249082   \n",
       "condition     -0.264075    0.016648  0.045622   1.000000 -0.146896   \n",
       "grade          0.458794    0.082818  0.249082  -0.146896  1.000000   \n",
       "sqft_above     0.523989    0.071778  0.166017  -0.158904  0.756073   \n",
       "sqft_basement -0.241866    0.083050  0.270629   0.168482  0.165843   \n",
       "yr_built       0.489193   -0.024487 -0.054452  -0.361592  0.447865   \n",
       "yr_renovated   0.003793    0.073939  0.090339  -0.055808  0.015623   \n",
       "zipcode       -0.059541    0.028923  0.085059   0.002888 -0.185771   \n",
       "lat            0.049239   -0.012157  0.006321  -0.015102  0.113575   \n",
       "long           0.125943   -0.037628 -0.077702  -0.105877  0.200341   \n",
       "sqft_living15  0.280102    0.083823  0.278928  -0.093072  0.713867   \n",
       "sqft_lot15    -0.010722    0.030658  0.073083  -0.003126  0.120981   \n",
       "\n",
       "               sqft_above  sqft_basement  yr_built  yr_renovated   zipcode  \\\n",
       "id              -0.010799      -0.004359  0.021617     -0.010612 -0.008211   \n",
       "price            0.605368       0.321108  0.053953      0.117855 -0.053402   \n",
       "bedrooms         0.479386       0.297229  0.155670      0.017900 -0.154092   \n",
       "bathrooms        0.686668       0.278485  0.507173      0.047177 -0.204786   \n",
       "sqft_living      0.876448       0.428660  0.318152      0.051060 -0.199802   \n",
       "sqft_lot         0.184139       0.015031  0.052946      0.004979 -0.129586   \n",
       "floors           0.523989      -0.241866  0.489193      0.003793 -0.059541   \n",
       "waterfront       0.071778       0.083050 -0.024487      0.073939  0.028923   \n",
       "view             0.166017       0.270629 -0.054452      0.090339  0.085059   \n",
       "condition       -0.158904       0.168482 -0.361592     -0.055808  0.002888   \n",
       "grade            0.756073       0.165843  0.447865      0.015623 -0.185771   \n",
       "sqft_above       1.000000      -0.051175  0.424037      0.020645 -0.261570   \n",
       "sqft_basement   -0.051175       1.000000 -0.130085      0.065008  0.073271   \n",
       "yr_built         0.424037      -0.130085  1.000000     -0.202555 -0.347210   \n",
       "yr_renovated     0.020645       0.065008 -0.202555      1.000000  0.062397   \n",
       "zipcode         -0.261570       0.073271 -0.347210      0.062397  1.000000   \n",
       "lat             -0.001199       0.109853 -0.148370      0.027970  0.266742   \n",
       "long             0.344842      -0.142369  0.409993     -0.064543 -0.564259   \n",
       "sqft_living15    0.731767       0.199288  0.326377      0.000683 -0.279299   \n",
       "sqft_lot15       0.195077       0.015885  0.070777      0.004286 -0.147294   \n",
       "\n",
       "                    lat      long  sqft_living15  sqft_lot15  \n",
       "id            -0.001798  0.020672      -0.002701   -0.138557  \n",
       "price          0.306692  0.022036       0.585241    0.082845  \n",
       "bedrooms      -0.009951  0.132054       0.393406    0.030690  \n",
       "bathrooms      0.024280  0.224903       0.569884    0.088303  \n",
       "sqft_living    0.052155  0.241214       0.756402    0.184342  \n",
       "sqft_lot      -0.085514  0.230227       0.144763    0.718204  \n",
       "floors         0.049239  0.125943       0.280102   -0.010722  \n",
       "waterfront    -0.012157 -0.037628       0.083823    0.030658  \n",
       "view           0.006321 -0.077702       0.278928    0.073083  \n",
       "condition     -0.015102 -0.105877      -0.093072   -0.003126  \n",
       "grade          0.113575  0.200341       0.713867    0.120981  \n",
       "sqft_above    -0.001199  0.344842       0.731767    0.195077  \n",
       "sqft_basement  0.109853 -0.142369       0.199288    0.015885  \n",
       "yr_built      -0.148370  0.409993       0.326377    0.070777  \n",
       "yr_renovated   0.027970 -0.064543       0.000683    0.004286  \n",
       "zipcode        0.266742 -0.564259      -0.279299   -0.147294  \n",
       "lat            1.000000 -0.135371       0.048679   -0.086139  \n",
       "long          -0.135371  1.000000       0.335626    0.255586  \n",
       "sqft_living15  0.048679  0.335626       1.000000    0.183515  \n",
       "sqft_lot15    -0.086139  0.255586       0.183515    1.000000  "
      ]
     },
     "execution_count": 13,
     "metadata": {},
     "output_type": "execute_result"
    }
   ],
   "source": [
    "# Looking at the correlation between all the columns  \n",
    "df.corr()"
   ]
  },
  {
   "cell_type": "code",
   "execution_count": 14,
   "metadata": {
    "ExecuteTime": {
     "end_time": "2021-01-26T19:40:40.065714Z",
     "start_time": "2021-01-26T19:40:38.859870Z"
    }
   },
   "outputs": [
    {
     "data": {
      "text/plain": [
       "<matplotlib.axes._subplots.AxesSubplot at 0x7f821979e910>"
      ]
     },
     "execution_count": 14,
     "metadata": {},
     "output_type": "execute_result"
    },
    {
     "data": {
      "image/png": "[encoded data removed]",
      "text/plain": [
       "<Figure size 864x720 with 2 Axes>"
      ]
     },
     "metadata": {
      "needs_background": "light"
     },
     "output_type": "display_data"
    }
   ],
   "source": [
    "# Graphed a heatmap for all the columns to look for multicollinearity\n",
    "plt.figure(figsize=(12,10))\n",
    "sns.heatmap(df.corr(), cmap= 'PuRd', annot= True)"
   ]
  },
  {
   "cell_type": "markdown",
   "metadata": {},
   "source": [
    "# -Model 1-"
   ]
  },
  {
   "cell_type": "code",
   "execution_count": 15,
   "metadata": {
    "ExecuteTime": {
     "end_time": "2021-01-26T19:40:40.073383Z",
     "start_time": "2021-01-26T19:40:40.067260Z"
    }
   },
   "outputs": [],
   "source": [
    "# Imported needed libraries to build Model1 'Price' is my Dep.Variable \n",
    "import statsmodels.formula as smf\n",
    "import statsmodels.api as sm\n",
    "from statsmodels.formula.api import ols\n",
    "\n",
    "outcome = 'price'\n",
    "x_cols = df.drop(['price', 'date'], axis = 1).columns\n",
    "predictors = '+'.join(x_cols)\n",
    "\n",
    "f = outcome + '~' + predictors"
   ]
  },
  {
   "cell_type": "code",
   "execution_count": 16,
   "metadata": {
    "ExecuteTime": {
     "end_time": "2021-01-26T19:40:40.249506Z",
     "start_time": "2021-01-26T19:40:40.075216Z"
    }
   },
   "outputs": [
    {
     "data": {
      "text/html": [
       "<table class=\"simpletable\">\n",
       "<caption>OLS Regression Results</caption>\n",
       "<tr>\n",
       "  <th>Dep. Variable:</th>          <td>price</td>      <th>  R-squared:         </th>  <td>   0.700</td>  \n",
       "</tr>\n",
       "<tr>\n",
       "  <th>Model:</th>                   <td>OLS</td>       <th>  Adj. R-squared:    </th>  <td>   0.700</td>  \n",
       "</tr>\n",
       "<tr>\n",
       "  <th>Method:</th>             <td>Least Squares</td>  <th>  F-statistic:       </th>  <td>   2652.</td>  \n",
       "</tr>\n",
       "<tr>\n",
       "  <th>Date:</th>             <td>Tue, 26 Jan 2021</td> <th>  Prob (F-statistic):</th>   <td>  0.00</td>   \n",
       "</tr>\n",
       "<tr>\n",
       "  <th>Time:</th>                 <td>12:40:40</td>     <th>  Log-Likelihood:    </th> <td>-2.9438e+05</td>\n",
       "</tr>\n",
       "<tr>\n",
       "  <th>No. Observations:</th>      <td> 21597</td>      <th>  AIC:               </th>  <td>5.888e+05</td> \n",
       "</tr>\n",
       "<tr>\n",
       "  <th>Df Residuals:</th>          <td> 21577</td>      <th>  BIC:               </th>  <td>5.890e+05</td> \n",
       "</tr>\n",
       "<tr>\n",
       "  <th>Df Model:</th>              <td>    19</td>      <th>                     </th>      <td> </td>     \n",
       "</tr>\n",
       "<tr>\n",
       "  <th>Covariance Type:</th>      <td>nonrobust</td>    <th>                     </th>      <td> </td>     \n",
       "</tr>\n",
       "</table>\n",
       "<table class=\"simpletable\">\n",
       "<tr>\n",
       "        <td></td>           <th>coef</th>     <th>std err</th>      <th>t</th>      <th>P>|t|</th>  <th>[0.025</th>    <th>0.975]</th>  \n",
       "</tr>\n",
       "<tr>\n",
       "  <th>Intercept</th>     <td> 6.903e+06</td> <td> 2.93e+06</td> <td>    2.355</td> <td> 0.019</td> <td> 1.16e+06</td> <td> 1.26e+07</td>\n",
       "</tr>\n",
       "<tr>\n",
       "  <th>id</th>            <td>-1.308e-06</td> <td> 4.83e-07</td> <td>   -2.710</td> <td> 0.007</td> <td>-2.25e-06</td> <td>-3.62e-07</td>\n",
       "</tr>\n",
       "<tr>\n",
       "  <th>bedrooms</th>      <td>-3.588e+04</td> <td> 1900.358</td> <td>  -18.883</td> <td> 0.000</td> <td>-3.96e+04</td> <td>-3.22e+04</td>\n",
       "</tr>\n",
       "<tr>\n",
       "  <th>bathrooms</th>     <td> 4.162e+04</td> <td> 3262.256</td> <td>   12.758</td> <td> 0.000</td> <td> 3.52e+04</td> <td>  4.8e+04</td>\n",
       "</tr>\n",
       "<tr>\n",
       "  <th>sqft_living</th>   <td>  102.6820</td> <td>   18.074</td> <td>    5.681</td> <td> 0.000</td> <td>   67.256</td> <td>  138.108</td>\n",
       "</tr>\n",
       "<tr>\n",
       "  <th>sqft_lot</th>      <td>    0.1213</td> <td>    0.048</td> <td>    2.527</td> <td> 0.012</td> <td>    0.027</td> <td>    0.215</td>\n",
       "</tr>\n",
       "<tr>\n",
       "  <th>floors</th>        <td> 7073.1630</td> <td> 3600.254</td> <td>    1.965</td> <td> 0.049</td> <td>   16.399</td> <td> 1.41e+04</td>\n",
       "</tr>\n",
       "<tr>\n",
       "  <th>waterfront</th>    <td> 6.177e+05</td> <td> 1.81e+04</td> <td>   34.065</td> <td> 0.000</td> <td> 5.82e+05</td> <td> 6.53e+05</td>\n",
       "</tr>\n",
       "<tr>\n",
       "  <th>view</th>          <td> 5.345e+04</td> <td> 2122.610</td> <td>   25.181</td> <td> 0.000</td> <td> 4.93e+04</td> <td> 5.76e+04</td>\n",
       "</tr>\n",
       "<tr>\n",
       "  <th>condition</th>     <td> 2.673e+04</td> <td> 2346.555</td> <td>   11.390</td> <td> 0.000</td> <td> 2.21e+04</td> <td> 3.13e+04</td>\n",
       "</tr>\n",
       "<tr>\n",
       "  <th>grade</th>         <td> 9.703e+04</td> <td> 2160.721</td> <td>   44.905</td> <td> 0.000</td> <td> 9.28e+04</td> <td> 1.01e+05</td>\n",
       "</tr>\n",
       "<tr>\n",
       "  <th>sqft_above</th>    <td>   78.0135</td> <td>   18.065</td> <td>    4.319</td> <td> 0.000</td> <td>   42.606</td> <td>  113.421</td>\n",
       "</tr>\n",
       "<tr>\n",
       "  <th>sqft_basement</th> <td>   47.7928</td> <td>   17.904</td> <td>    2.669</td> <td> 0.008</td> <td>   12.699</td> <td>   82.886</td>\n",
       "</tr>\n",
       "<tr>\n",
       "  <th>yr_built</th>      <td>-2639.0657</td> <td>   71.923</td> <td>  -36.693</td> <td> 0.000</td> <td>-2780.041</td> <td>-2498.091</td>\n",
       "</tr>\n",
       "<tr>\n",
       "  <th>yr_renovated</th>  <td>   23.4736</td> <td>    3.977</td> <td>    5.902</td> <td> 0.000</td> <td>   15.678</td> <td>   31.269</td>\n",
       "</tr>\n",
       "<tr>\n",
       "  <th>zipcode</th>       <td> -584.2557</td> <td>   32.986</td> <td>  -17.712</td> <td> 0.000</td> <td> -648.910</td> <td> -519.601</td>\n",
       "</tr>\n",
       "<tr>\n",
       "  <th>lat</th>           <td> 6.003e+05</td> <td> 1.07e+04</td> <td>   55.906</td> <td> 0.000</td> <td> 5.79e+05</td> <td> 6.21e+05</td>\n",
       "</tr>\n",
       "<tr>\n",
       "  <th>long</th>          <td>-2.157e+05</td> <td> 1.32e+04</td> <td>  -16.375</td> <td> 0.000</td> <td>-2.42e+05</td> <td> -1.9e+05</td>\n",
       "</tr>\n",
       "<tr>\n",
       "  <th>sqft_living15</th> <td>   21.4612</td> <td>    3.450</td> <td>    6.221</td> <td> 0.000</td> <td>   14.699</td> <td>   28.224</td>\n",
       "</tr>\n",
       "<tr>\n",
       "  <th>sqft_lot15</th>    <td>   -0.4017</td> <td>    0.074</td> <td>   -5.463</td> <td> 0.000</td> <td>   -0.546</td> <td>   -0.258</td>\n",
       "</tr>\n",
       "</table>\n",
       "<table class=\"simpletable\">\n",
       "<tr>\n",
       "  <th>Omnibus:</th>       <td>18365.315</td> <th>  Durbin-Watson:     </th>  <td>   1.989</td>  \n",
       "</tr>\n",
       "<tr>\n",
       "  <th>Prob(Omnibus):</th>  <td> 0.000</td>   <th>  Jarque-Bera (JB):  </th> <td>1847074.980</td>\n",
       "</tr>\n",
       "<tr>\n",
       "  <th>Skew:</th>           <td> 3.568</td>   <th>  Prob(JB):          </th>  <td>    0.00</td>  \n",
       "</tr>\n",
       "<tr>\n",
       "  <th>Kurtosis:</th>       <td>47.740</td>   <th>  Cond. No.          </th>  <td>1.16e+13</td>  \n",
       "</tr>\n",
       "</table><br/><br/>Warnings:<br/>[1] Standard Errors assume that the covariance matrix of the errors is correctly specified.<br/>[2] The condition number is large, 1.16e+13. This might indicate that there are<br/>strong multicollinearity or other numerical problems."
      ],
      "text/plain": [
       "<class 'statsmodels.iolib.summary.Summary'>\n",
       "\"\"\"\n",
       "                            OLS Regression Results                            \n",
       "==============================================================================\n",
       "Dep. Variable:                  price   R-squared:                       0.700\n",
       "Model:                            OLS   Adj. R-squared:                  0.700\n",
       "Method:                 Least Squares   F-statistic:                     2652.\n",
       "Date:                Tue, 26 Jan 2021   Prob (F-statistic):               0.00\n",
       "Time:                        12:40:40   Log-Likelihood:            -2.9438e+05\n",
       "No. Observations:               21597   AIC:                         5.888e+05\n",
       "Df Residuals:                   21577   BIC:                         5.890e+05\n",
       "Df Model:                          19                                         \n",
       "Covariance Type:            nonrobust                                         \n",
       "=================================================================================\n",
       "                    coef    std err          t      P>|t|      [0.025      0.975]\n",
       "---------------------------------------------------------------------------------\n",
       "Intercept      6.903e+06   2.93e+06      2.355      0.019    1.16e+06    1.26e+07\n",
       "id            -1.308e-06   4.83e-07     -2.710      0.007   -2.25e-06   -3.62e-07\n",
       "bedrooms      -3.588e+04   1900.358    -18.883      0.000   -3.96e+04   -3.22e+04\n",
       "bathrooms      4.162e+04   3262.256     12.758      0.000    3.52e+04     4.8e+04\n",
       "sqft_living     102.6820     18.074      5.681      0.000      67.256     138.108\n",
       "sqft_lot          0.1213      0.048      2.527      0.012       0.027       0.215\n",
       "floors         7073.1630   3600.254      1.965      0.049      16.399    1.41e+04\n",
       "waterfront     6.177e+05   1.81e+04     34.065      0.000    5.82e+05    6.53e+05\n",
       "view           5.345e+04   2122.610     25.181      0.000    4.93e+04    5.76e+04\n",
       "condition      2.673e+04   2346.555     11.390      0.000    2.21e+04    3.13e+04\n",
       "grade          9.703e+04   2160.721     44.905      0.000    9.28e+04    1.01e+05\n",
       "sqft_above       78.0135     18.065      4.319      0.000      42.606     113.421\n",
       "sqft_basement    47.7928     17.904      2.669      0.008      12.699      82.886\n",
       "yr_built      -2639.0657     71.923    -36.693      0.000   -2780.041   -2498.091\n",
       "yr_renovated     23.4736      3.977      5.902      0.000      15.678      31.269\n",
       "zipcode        -584.2557     32.986    -17.712      0.000    -648.910    -519.601\n",
       "lat            6.003e+05   1.07e+04     55.906      0.000    5.79e+05    6.21e+05\n",
       "long          -2.157e+05   1.32e+04    -16.375      0.000   -2.42e+05    -1.9e+05\n",
       "sqft_living15    21.4612      3.450      6.221      0.000      14.699      28.224\n",
       "sqft_lot15       -0.4017      0.074     -5.463      0.000      -0.546      -0.258\n",
       "==============================================================================\n",
       "Omnibus:                    18365.315   Durbin-Watson:                   1.989\n",
       "Prob(Omnibus):                  0.000   Jarque-Bera (JB):          1847074.980\n",
       "Skew:                           3.568   Prob(JB):                         0.00\n",
       "Kurtosis:                      47.740   Cond. No.                     1.16e+13\n",
       "==============================================================================\n",
       "\n",
       "Warnings:\n",
       "[1] Standard Errors assume that the covariance matrix of the errors is correctly specified.\n",
       "[2] The condition number is large, 1.16e+13. This might indicate that there are\n",
       "strong multicollinearity or other numerical problems.\n",
       "\"\"\""
      ]
     },
     "execution_count": 16,
     "metadata": {},
     "output_type": "execute_result"
    }
   ],
   "source": [
    "# Model 1 R-Squared is 70% which is good \n",
    "# Pvalue for 'floors' to high Drop the column\n",
    "\n",
    "\n",
    "model1 = ols(formula= f, data = df).fit()\n",
    "model1.summary()"
   ]
  },
  {
   "cell_type": "code",
   "execution_count": 17,
   "metadata": {
    "ExecuteTime": {
     "end_time": "2021-01-26T19:40:40.497160Z",
     "start_time": "2021-01-26T19:40:40.251627Z"
    }
   },
   "outputs": [
    {
     "name": "stdout",
     "output_type": "stream",
     "text": [
      "Train MSE: 38644465958.30263\n",
      "Test MSE: 51403866057.278015\n",
      "RMSE Train: 196581.95735698286\n",
      "RMSE Test: 226724.2070385913\n"
     ]
    },
    {
     "data": {
      "image/png": "[encoded data removed]",
      "text/plain": [
       "<Figure size 432x288 with 1 Axes>"
      ]
     },
     "execution_count": 17,
     "metadata": {},
     "output_type": "execute_result"
    },
    {
     "data": {
      "image/png": "[encoded data removed]",
      "text/plain": [
       "<Figure size 432x288 with 1 Axes>"
      ]
     },
     "metadata": {
      "needs_background": "light"
     },
     "output_type": "display_data"
    }
   ],
   "source": [
    "# Model1 needs work \n",
    "# 1-clean outliers 2- separate continuous and categorical 3- drop columns \n",
    "\n",
    "from sklearn.model_selection import train_test_split\n",
    "from sklearn.metrics import mean_squared_error\n",
    "import statsmodels\n",
    "from sklearn.metrics import r2_score\n",
    "\n",
    "data = df.copy()\n",
    "\n",
    "y = data['price']\n",
    "X = data.drop(['price', 'date', 'id', 'zipcode', 'sqft_above'], axis = 1)\n",
    "\n",
    "X_train, X_test, y_train, y_test = train_test_split(X, y, test_size = 0.2)\n",
    "\n",
    "len(X_test)\n",
    "\n",
    "linreg = LinearRegression()\n",
    "linreg.fit(X_train, y_train)\n",
    "\n",
    "y_hat_train = linreg.predict(X_train)\n",
    "y_hat_test = linreg.predict(X_test)\n",
    "\n",
    "\n",
    "mse_train = mean_squared_error(y_train, y_hat_train)\n",
    "mse_test = mean_squared_error(y_test, y_hat_test)\n",
    "\n",
    "print('Train MSE:', mse_train)\n",
    "print('Test MSE:', mse_test)\n",
    "\n",
    "print('RMSE Train:', np.sqrt(mse_train))\n",
    "print('RMSE Test:', np.sqrt(mse_test))\n",
    "\n",
    "r2_score(y_test, y_hat_test)\n",
    "\n",
    "residuals = (y_test - y_hat_test)\n",
    "\n",
    "statsmodels.graphics.gofplots.qqplot(residuals, line = \"r\")"
   ]
  },
  {
   "cell_type": "markdown",
   "metadata": {},
   "source": [
    "# -Model 2-"
   ]
  },
  {
   "cell_type": "code",
   "execution_count": 18,
   "metadata": {
    "ExecuteTime": {
     "end_time": "2021-01-26T19:40:40.508703Z",
     "start_time": "2021-01-26T19:40:40.498896Z"
    }
   },
   "outputs": [
    {
     "name": "stdout",
     "output_type": "stream",
     "text": [
      "<class 'pandas.core.frame.DataFrame'>\n",
      "RangeIndex: 21597 entries, 0 to 21596\n",
      "Data columns (total 21 columns):\n",
      " #   Column         Non-Null Count  Dtype  \n",
      "---  ------         --------------  -----  \n",
      " 0   id             21597 non-null  int64  \n",
      " 1   date           21597 non-null  object \n",
      " 2   price          21597 non-null  float64\n",
      " 3   bedrooms       21597 non-null  int64  \n",
      " 4   bathrooms      21597 non-null  float64\n",
      " 5   sqft_living    21597 non-null  int64  \n",
      " 6   sqft_lot       21597 non-null  int64  \n",
      " 7   floors         21597 non-null  float64\n",
      " 8   waterfront     21597 non-null  float64\n",
      " 9   view           21597 non-null  float64\n",
      " 10  condition      21597 non-null  int64  \n",
      " 11  grade          21597 non-null  int64  \n",
      " 12  sqft_above     21597 non-null  int64  \n",
      " 13  sqft_basement  21597 non-null  float64\n",
      " 14  yr_built       21597 non-null  int64  \n",
      " 15  yr_renovated   21597 non-null  float64\n",
      " 16  zipcode        21597 non-null  int64  \n",
      " 17  lat            21597 non-null  float64\n",
      " 18  long           21597 non-null  float64\n",
      " 19  sqft_living15  21597 non-null  int64  \n",
      " 20  sqft_lot15     21597 non-null  int64  \n",
      "dtypes: float64(9), int64(11), object(1)\n",
      "memory usage: 3.5+ MB\n"
     ]
    }
   ],
   "source": [
    "df.info()"
   ]
  },
  {
   "cell_type": "code",
   "execution_count": 19,
   "metadata": {
    "ExecuteTime": {
     "end_time": "2021-01-26T19:40:40.519938Z",
     "start_time": "2021-01-26T19:40:40.510262Z"
    }
   },
   "outputs": [],
   "source": [
    "# Built  for loop to make a list of continuous and categorical columns \n",
    "# Decide which ones to treat as continuous and categorical\n",
    "\n",
    "conts = []\n",
    "cats = []\n",
    "\n",
    "for col in df.columns:\n",
    "    if(df[col].nunique() < 25):\n",
    "        cats.append(col)\n",
    "    else: \n",
    "        conts.append(col)"
   ]
  },
  {
   "cell_type": "code",
   "execution_count": 20,
   "metadata": {
    "ExecuteTime": {
     "end_time": "2021-01-26T19:40:40.524463Z",
     "start_time": "2021-01-26T19:40:40.521448Z"
    }
   },
   "outputs": [
    {
     "data": {
      "text/plain": [
       "['id',\n",
       " 'date',\n",
       " 'price',\n",
       " 'bathrooms',\n",
       " 'sqft_living',\n",
       " 'sqft_lot',\n",
       " 'sqft_above',\n",
       " 'sqft_basement',\n",
       " 'yr_built',\n",
       " 'yr_renovated',\n",
       " 'zipcode',\n",
       " 'lat',\n",
       " 'long',\n",
       " 'sqft_living15',\n",
       " 'sqft_lot15']"
      ]
     },
     "execution_count": 20,
     "metadata": {},
     "output_type": "execute_result"
    }
   ],
   "source": [
    "conts"
   ]
  },
  {
   "cell_type": "code",
   "execution_count": 21,
   "metadata": {
    "ExecuteTime": {
     "end_time": "2021-01-26T19:40:40.527596Z",
     "start_time": "2021-01-26T19:40:40.525797Z"
    }
   },
   "outputs": [],
   "source": [
    "# CONTINUOUS  "
   ]
  },
  {
   "cell_type": "code",
   "execution_count": 22,
   "metadata": {
    "ExecuteTime": {
     "end_time": "2021-01-26T19:40:40.536863Z",
     "start_time": "2021-01-26T19:40:40.529195Z"
    }
   },
   "outputs": [
    {
     "data": {
      "text/plain": [
       "2.50    0.248970\n",
       "1.00    0.178312\n",
       "1.75    0.141131\n",
       "2.25    0.094782\n",
       "2.00    0.089364\n",
       "1.50    0.066907\n",
       "2.75    0.054869\n",
       "3.00    0.034866\n",
       "3.50    0.033847\n",
       "3.25    0.027272\n",
       "3.75    0.007177\n",
       "4.00    0.006297\n",
       "4.50    0.004630\n",
       "4.25    0.003658\n",
       "0.75    0.003287\n",
       "4.75    0.001065\n",
       "5.00    0.000972\n",
       "5.25    0.000602\n",
       "5.50    0.000463\n",
       "1.25    0.000417\n",
       "6.00    0.000278\n",
       "5.75    0.000185\n",
       "0.50    0.000185\n",
       "8.00    0.000093\n",
       "6.25    0.000093\n",
       "6.75    0.000093\n",
       "6.50    0.000093\n",
       "7.50    0.000046\n",
       "7.75    0.000046\n",
       "Name: bathrooms, dtype: float64"
      ]
     },
     "execution_count": 22,
     "metadata": {},
     "output_type": "execute_result"
    }
   ],
   "source": [
    "# Looking at the 'bathrooms' values and their counts \n",
    "df.bathrooms.value_counts(normalize= True)"
   ]
  },
  {
   "cell_type": "code",
   "execution_count": 23,
   "metadata": {
    "ExecuteTime": {
     "end_time": "2021-01-26T19:40:40.730409Z",
     "start_time": "2021-01-26T19:40:40.538510Z"
    }
   },
   "outputs": [
    {
     "data": {
      "text/plain": [
       "<matplotlib.axes._subplots.AxesSubplot at 0x7f821b8951f0>"
      ]
     },
     "execution_count": 23,
     "metadata": {},
     "output_type": "execute_result"
    },
    {
     "data": {
      "image/png": "[encoded data removed]",
      "text/plain": [
       "<Figure size 360x216 with 1 Axes>"
      ]
     },
     "metadata": {
      "needs_background": "light"
     },
     "output_type": "display_data"
    }
   ],
   "source": [
    "# Graphed the 'bathrooms' values and their counts \n",
    "\n",
    "df['bathrooms'].hist(figsize= (5,3))"
   ]
  },
  {
   "cell_type": "code",
   "execution_count": 24,
   "metadata": {
    "ExecuteTime": {
     "end_time": "2021-01-26T19:40:40.740925Z",
     "start_time": "2021-01-26T19:40:40.736049Z"
    }
   },
   "outputs": [],
   "source": [
    "# Bathrooms\n",
    "df = df[df['bathrooms'] < 6]"
   ]
  },
  {
   "cell_type": "code",
   "execution_count": 25,
   "metadata": {
    "ExecuteTime": {
     "end_time": "2021-01-26T19:40:40.750033Z",
     "start_time": "2021-01-26T19:40:40.744639Z"
    }
   },
   "outputs": [
    {
     "data": {
      "text/plain": [
       "1300    0.006395\n",
       "1400    0.006256\n",
       "1440    0.006163\n",
       "1660    0.005977\n",
       "1010    0.005977\n",
       "          ...   \n",
       "460     0.000046\n",
       "3527    0.000046\n",
       "380     0.000046\n",
       "5700    0.000046\n",
       "2031    0.000046\n",
       "Name: sqft_living, Length: 1021, dtype: float64"
      ]
     },
     "execution_count": 25,
     "metadata": {},
     "output_type": "execute_result"
    }
   ],
   "source": [
    "# Looking at the 'sqft_living' values and their counts \n",
    "\n",
    "df.sqft_living.value_counts(normalize= True)"
   ]
  },
  {
   "cell_type": "code",
   "execution_count": 26,
   "metadata": {
    "ExecuteTime": {
     "end_time": "2021-01-26T19:40:40.866142Z",
     "start_time": "2021-01-26T19:40:40.751431Z"
    }
   },
   "outputs": [
    {
     "data": {
      "text/plain": [
       "<matplotlib.axes._subplots.AxesSubplot at 0x7f821a764f40>"
      ]
     },
     "execution_count": 26,
     "metadata": {},
     "output_type": "execute_result"
    },
    {
     "data": {
      "image/png": "[encoded data removed]",
      "text/plain": [
       "<Figure size 360x216 with 1 Axes>"
      ]
     },
     "metadata": {
      "needs_background": "light"
     },
     "output_type": "display_data"
    }
   ],
   "source": [
    "# Graphed the 'Sqft_living' values and their counts \n",
    "\n",
    "df['sqft_living'].hist(figsize= (5,3))"
   ]
  },
  {
   "cell_type": "code",
   "execution_count": 27,
   "metadata": {
    "ExecuteTime": {
     "end_time": "2021-01-26T19:40:40.872663Z",
     "start_time": "2021-01-26T19:40:40.867758Z"
    }
   },
   "outputs": [],
   "source": [
    "# Sqft_living\n",
    "df = df[df['sqft_living'] < 6000]"
   ]
  },
  {
   "cell_type": "code",
   "execution_count": 28,
   "metadata": {
    "ExecuteTime": {
     "end_time": "2021-01-26T19:40:40.879964Z",
     "start_time": "2021-01-26T19:40:40.873966Z"
    }
   },
   "outputs": [
    {
     "data": {
      "text/plain": [
       "350000.0    0.007990\n",
       "450000.0    0.007944\n",
       "550000.0    0.007386\n",
       "500000.0    0.007061\n",
       "425000.0    0.006968\n",
       "              ...   \n",
       "870515.0    0.000046\n",
       "336950.0    0.000046\n",
       "386100.0    0.000046\n",
       "176250.0    0.000046\n",
       "884744.0    0.000046\n",
       "Name: price, Length: 3601, dtype: float64"
      ]
     },
     "execution_count": 28,
     "metadata": {},
     "output_type": "execute_result"
    }
   ],
   "source": [
    "# Looking at the 'Price' values and their counts \n",
    "\n",
    "df.price.value_counts(normalize= True)"
   ]
  },
  {
   "cell_type": "code",
   "execution_count": 29,
   "metadata": {
    "ExecuteTime": {
     "end_time": "2021-01-26T19:40:41.001883Z",
     "start_time": "2021-01-26T19:40:40.881422Z"
    }
   },
   "outputs": [
    {
     "data": {
      "text/plain": [
       "<matplotlib.axes._subplots.AxesSubplot at 0x7f81f0d7f4c0>"
      ]
     },
     "execution_count": 29,
     "metadata": {},
     "output_type": "execute_result"
    },
    {
     "data": {
      "image/png": "[encoded data removed]",
      "text/plain": [
       "<Figure size 360x216 with 1 Axes>"
      ]
     },
     "metadata": {
      "needs_background": "light"
     },
     "output_type": "display_data"
    }
   ],
   "source": [
    "# Graphed the 'price' values and their counts \n",
    "\n",
    "df['price'].hist(figsize= (5,3))"
   ]
  },
  {
   "cell_type": "code",
   "execution_count": 30,
   "metadata": {
    "ExecuteTime": {
     "end_time": "2021-01-26T19:40:41.008044Z",
     "start_time": "2021-01-26T19:40:41.003477Z"
    }
   },
   "outputs": [],
   "source": [
    "# Price\n",
    "df = df[df['price'] < 1500000]"
   ]
  },
  {
   "cell_type": "code",
   "execution_count": 31,
   "metadata": {
    "ExecuteTime": {
     "end_time": "2021-01-26T19:40:41.012165Z",
     "start_time": "2021-01-26T19:40:41.009504Z"
    }
   },
   "outputs": [
    {
     "data": {
      "text/plain": [
       "['bedrooms', 'floors', 'waterfront', 'view', 'condition', 'grade']"
      ]
     },
     "execution_count": 31,
     "metadata": {},
     "output_type": "execute_result"
    }
   ],
   "source": [
    "cats"
   ]
  },
  {
   "cell_type": "code",
   "execution_count": 32,
   "metadata": {
    "ExecuteTime": {
     "end_time": "2021-01-26T19:40:41.015219Z",
     "start_time": "2021-01-26T19:40:41.013567Z"
    }
   },
   "outputs": [],
   "source": [
    "# CATEGORICAL"
   ]
  },
  {
   "cell_type": "code",
   "execution_count": 33,
   "metadata": {
    "ExecuteTime": {
     "end_time": "2021-01-26T19:40:41.020432Z",
     "start_time": "2021-01-26T19:40:41.016944Z"
    }
   },
   "outputs": [
    {
     "data": {
      "text/plain": [
       "array([ 3,  2,  4,  5,  1,  6,  7,  8,  9, 11, 10, 33])"
      ]
     },
     "execution_count": 33,
     "metadata": {},
     "output_type": "execute_result"
    }
   ],
   "source": [
    "df['bedrooms'].unique()"
   ]
  },
  {
   "cell_type": "code",
   "execution_count": 34,
   "metadata": {
    "ExecuteTime": {
     "end_time": "2021-01-26T19:40:41.026568Z",
     "start_time": "2021-01-26T19:40:41.021975Z"
    }
   },
   "outputs": [
    {
     "data": {
      "text/plain": [
       "3     0.462156\n",
       "4     0.314629\n",
       "2     0.130850\n",
       "5     0.069179\n",
       "6     0.011546\n",
       "1     0.009312\n",
       "7     0.001425\n",
       "8     0.000428\n",
       "9     0.000238\n",
       "10    0.000143\n",
       "11    0.000048\n",
       "33    0.000048\n",
       "Name: bedrooms, dtype: float64"
      ]
     },
     "execution_count": 34,
     "metadata": {},
     "output_type": "execute_result"
    }
   ],
   "source": [
    "# Looking at the 'Bedrooms' values and their counts \n",
    "\n",
    "df.bedrooms.value_counts(normalize= True)"
   ]
  },
  {
   "cell_type": "code",
   "execution_count": 35,
   "metadata": {
    "ExecuteTime": {
     "end_time": "2021-01-26T19:40:41.143832Z",
     "start_time": "2021-01-26T19:40:41.027873Z"
    }
   },
   "outputs": [
    {
     "data": {
      "text/plain": [
       "<matplotlib.axes._subplots.AxesSubplot at 0x7f81f11376d0>"
      ]
     },
     "execution_count": 35,
     "metadata": {},
     "output_type": "execute_result"
    },
    {
     "data": {
      "image/png": "[encoded data removed]",
      "text/plain": [
       "<Figure size 360x216 with 1 Axes>"
      ]
     },
     "metadata": {
      "needs_background": "light"
     },
     "output_type": "display_data"
    }
   ],
   "source": [
    "# Graphed the 'Bedrooms' values and their counts \n",
    "\n",
    "df['bedrooms'].hist(figsize= (5,3))"
   ]
  },
  {
   "cell_type": "code",
   "execution_count": 36,
   "metadata": {
    "ExecuteTime": {
     "end_time": "2021-01-26T19:40:41.185903Z",
     "start_time": "2021-01-26T19:40:41.145412Z"
    }
   },
   "outputs": [],
   "source": [
    "#bedrooms\n",
    "df['bed2'] = df['bedrooms'].map(lambda x: 1 if x < 3 else 0)\n",
    "df['bed3'] = df['bedrooms'].map(lambda x: 1 if x == 3 else 0)\n",
    "df['bed4'] = df['bedrooms'].map(lambda x: 1 if x == 4 else 0)\n",
    "df['bed5'] = df['bedrooms'].map(lambda x: 1 if x== 5 else 0 )\n",
    "df['bed5+']= df['bedrooms'].map(lambda x : 1 if x > 5 else 0)\n",
    "df.drop(columns= 'bedrooms', axis= 1, inplace= True)"
   ]
  },
  {
   "cell_type": "code",
   "execution_count": 37,
   "metadata": {
    "ExecuteTime": {
     "end_time": "2021-01-26T19:40:41.192651Z",
     "start_time": "2021-01-26T19:40:41.188001Z"
    }
   },
   "outputs": [
    {
     "data": {
      "text/plain": [
       "array([3, 5, 4, 1, 2])"
      ]
     },
     "execution_count": 37,
     "metadata": {},
     "output_type": "execute_result"
    }
   ],
   "source": [
    "df['condition'].unique()"
   ]
  },
  {
   "cell_type": "code",
   "execution_count": 38,
   "metadata": {
    "ExecuteTime": {
     "end_time": "2021-01-26T19:40:41.201229Z",
     "start_time": "2021-01-26T19:40:41.195650Z"
    }
   },
   "outputs": [
    {
     "data": {
      "text/plain": [
       "3    0.649689\n",
       "4    0.263505\n",
       "5    0.077446\n",
       "2    0.008030\n",
       "1    0.001330\n",
       "Name: condition, dtype: float64"
      ]
     },
     "execution_count": 38,
     "metadata": {},
     "output_type": "execute_result"
    }
   ],
   "source": [
    "# Looking at the 'Condition' values and their counts \n",
    "\n",
    "df.condition.value_counts(normalize= True)"
   ]
  },
  {
   "cell_type": "code",
   "execution_count": 39,
   "metadata": {
    "ExecuteTime": {
     "end_time": "2021-01-26T19:40:41.329926Z",
     "start_time": "2021-01-26T19:40:41.202780Z"
    }
   },
   "outputs": [
    {
     "data": {
      "text/plain": [
       "<matplotlib.axes._subplots.AxesSubplot at 0x7f81f15b5d00>"
      ]
     },
     "execution_count": 39,
     "metadata": {},
     "output_type": "execute_result"
    },
    {
     "data": {
      "image/png": "[encoded data removed]",
      "text/plain": [
       "<Figure size 360x216 with 1 Axes>"
      ]
     },
     "metadata": {
      "needs_background": "light"
     },
     "output_type": "display_data"
    }
   ],
   "source": [
    "# Graphed the 'Condition' values and their counts \n",
    "\n",
    "df['condition'].hist(figsize= (5,3))"
   ]
  },
  {
   "cell_type": "code",
   "execution_count": 40,
   "metadata": {
    "ExecuteTime": {
     "end_time": "2021-01-26T19:40:41.364155Z",
     "start_time": "2021-01-26T19:40:41.331561Z"
    }
   },
   "outputs": [],
   "source": [
    "# Condition\n",
    "df['con2_under'] = df['condition'].map(lambda x: 1 if x < 3 else 0)\n",
    "df['con3'] = df['condition'].map(lambda x: 1 if x == 3 else 0)\n",
    "df['con4'] = df['condition'].map(lambda x: 1 if x == 4 else 0)\n",
    "df['con5'] = df['condition'].map(lambda x: 1 if x == 5 else 0)\n",
    "df.drop(columns= 'condition', axis= 1, inplace= True)"
   ]
  },
  {
   "cell_type": "code",
   "execution_count": 41,
   "metadata": {
    "ExecuteTime": {
     "end_time": "2021-01-26T19:40:41.371445Z",
     "start_time": "2021-01-26T19:40:41.366471Z"
    }
   },
   "outputs": [
    {
     "data": {
      "text/plain": [
       "array([ 7,  6,  8, 11,  9,  5, 10,  4, 12,  3])"
      ]
     },
     "execution_count": 41,
     "metadata": {},
     "output_type": "execute_result"
    }
   ],
   "source": [
    "df['grade'].unique()"
   ]
  },
  {
   "cell_type": "code",
   "execution_count": 42,
   "metadata": {
    "ExecuteTime": {
     "end_time": "2021-01-26T19:40:41.379657Z",
     "start_time": "2021-01-26T19:40:41.373124Z"
    }
   },
   "outputs": [
    {
     "data": {
      "text/plain": [
       "7     0.426141\n",
       "8     0.286882\n",
       "9     0.119494\n",
       "6     0.096831\n",
       "10    0.045327\n",
       "11    0.011593\n",
       "5     0.011498\n",
       "4     0.001283\n",
       "12    0.000903\n",
       "3     0.000048\n",
       "Name: grade, dtype: float64"
      ]
     },
     "execution_count": 42,
     "metadata": {},
     "output_type": "execute_result"
    }
   ],
   "source": [
    "# Looking at the 'Grade' values and their counts \n",
    "\n",
    "df.grade.value_counts(normalize= True)"
   ]
  },
  {
   "cell_type": "code",
   "execution_count": 43,
   "metadata": {
    "ExecuteTime": {
     "end_time": "2021-01-26T19:40:41.496165Z",
     "start_time": "2021-01-26T19:40:41.381401Z"
    }
   },
   "outputs": [
    {
     "data": {
      "text/plain": [
       "<matplotlib.axes._subplots.AxesSubplot at 0x7f81f1991250>"
      ]
     },
     "execution_count": 43,
     "metadata": {},
     "output_type": "execute_result"
    },
    {
     "data": {
      "image/png": "[encoded data removed]",
      "text/plain": [
       "<Figure size 360x216 with 1 Axes>"
      ]
     },
     "metadata": {
      "needs_background": "light"
     },
     "output_type": "display_data"
    }
   ],
   "source": [
    "# Graphed the 'Grade' values and their counts \n",
    "\n",
    "df['grade'].hist(figsize= (5,3))"
   ]
  },
  {
   "cell_type": "code",
   "execution_count": 44,
   "metadata": {
    "ExecuteTime": {
     "end_time": "2021-01-26T19:40:41.550056Z",
     "start_time": "2021-01-26T19:40:41.497949Z"
    }
   },
   "outputs": [],
   "source": [
    "# Grade \n",
    "df['grade5_under'] = df['grade'].map(lambda x: 1 if x < 6 else 0)\n",
    "df['grade6'] = df['grade'].map(lambda x: 1 if x == 6 else 0)\n",
    "df['grade7'] = df['grade'].map(lambda x: 1 if x == 7 else 0)\n",
    "df['grade8'] = df['grade'].map(lambda x: 1 if x == 8 else 0)\n",
    "df['grade9'] = df['grade'].map(lambda x: 1 if x == 9 else 0)\n",
    "df['grade10_up'] = df['grade'].map(lambda x: 1 if x > 9 else 0)\n",
    "df.drop(columns = 'grade', axis = 1, inplace = True)"
   ]
  },
  {
   "cell_type": "code",
   "execution_count": 45,
   "metadata": {
    "ExecuteTime": {
     "end_time": "2021-01-26T19:40:41.556197Z",
     "start_time": "2021-01-26T19:40:41.551806Z"
    }
   },
   "outputs": [
    {
     "data": {
      "text/plain": [
       "array([   0., 1991., 2002., 2010., 1992., 2013., 1994., 1978., 2005.,\n",
       "       2003., 1984., 1954., 2014., 2011., 1983., 1945., 1990., 1988.,\n",
       "       1977., 1981., 1995., 2000., 1999., 1970., 1989., 2004., 1986.,\n",
       "       2007., 1987., 2006., 1985., 2001., 1980., 1971., 1979., 1997.,\n",
       "       1950., 1969., 1948., 2009., 2015., 1974., 2008., 1968., 2012.,\n",
       "       1963., 1951., 1962., 1953., 1993., 1998., 1996., 1955., 1982.,\n",
       "       1956., 1940., 1976., 1946., 1975., 1964., 1973., 1957., 1959.,\n",
       "       1960., 1967., 1965., 1934., 1972., 1944., 1958.])"
      ]
     },
     "execution_count": 45,
     "metadata": {},
     "output_type": "execute_result"
    }
   ],
   "source": [
    "df['yr_renovated'].unique()"
   ]
  },
  {
   "cell_type": "code",
   "execution_count": 46,
   "metadata": {
    "ExecuteTime": {
     "end_time": "2021-01-26T19:40:41.565830Z",
     "start_time": "2021-01-26T19:40:41.558470Z"
    }
   },
   "outputs": [
    {
     "data": {
      "text/plain": [
       "0.0       0.967739\n",
       "2014.0    0.003373\n",
       "2013.0    0.001425\n",
       "2007.0    0.001283\n",
       "2000.0    0.001235\n",
       "            ...   \n",
       "1934.0    0.000048\n",
       "1944.0    0.000048\n",
       "1959.0    0.000048\n",
       "1976.0    0.000048\n",
       "1953.0    0.000048\n",
       "Name: yr_renovated, Length: 70, dtype: float64"
      ]
     },
     "execution_count": 46,
     "metadata": {},
     "output_type": "execute_result"
    }
   ],
   "source": [
    "# Looking at the 'Yr_ renovated' values and their counts \n",
    "\n",
    "df.yr_renovated.value_counts(normalize= True)"
   ]
  },
  {
   "cell_type": "code",
   "execution_count": 47,
   "metadata": {
    "ExecuteTime": {
     "end_time": "2021-01-26T19:40:41.703231Z",
     "start_time": "2021-01-26T19:40:41.567880Z"
    }
   },
   "outputs": [
    {
     "data": {
      "text/plain": [
       "<matplotlib.axes._subplots.AxesSubplot at 0x7f81f174ab80>"
      ]
     },
     "execution_count": 47,
     "metadata": {},
     "output_type": "execute_result"
    },
    {
     "data": {
      "image/png": "[encoded data removed]",
      "text/plain": [
       "<Figure size 360x216 with 1 Axes>"
      ]
     },
     "metadata": {
      "needs_background": "light"
     },
     "output_type": "display_data"
    }
   ],
   "source": [
    "# Graphed the 'Yr_renovated' values and their counts \n",
    "\n",
    "df['yr_renovated'].hist(figsize= (5,3))"
   ]
  },
  {
   "cell_type": "code",
   "execution_count": 48,
   "metadata": {
    "ExecuteTime": {
     "end_time": "2021-01-26T19:40:41.732989Z",
     "start_time": "2021-01-26T19:40:41.705312Z"
    }
   },
   "outputs": [],
   "source": [
    "# Year renovated\n",
    "\n",
    "df['been_renovated'] =df['yr_renovated'].apply(lambda x: 1 if x >0 else 0)\n",
    "df['not_renovated'] =df['yr_renovated'].apply(lambda x: 1 if x == 0 else 0)\n",
    "df.drop(columns = 'yr_renovated', axis= 1 , inplace= True)"
   ]
  },
  {
   "cell_type": "code",
   "execution_count": 49,
   "metadata": {
    "ExecuteTime": {
     "end_time": "2021-01-26T19:40:41.742321Z",
     "start_time": "2021-01-26T19:40:41.734889Z"
    }
   },
   "outputs": [
    {
     "data": {
      "text/plain": [
       "0.0       0.621514\n",
       "600.0     0.010215\n",
       "500.0     0.009788\n",
       "700.0     0.009598\n",
       "800.0     0.009360\n",
       "            ...   \n",
       "2850.0    0.000048\n",
       "274.0     0.000048\n",
       "588.0     0.000048\n",
       "602.0     0.000048\n",
       "266.0     0.000048\n",
       "Name: sqft_basement, Length: 279, dtype: float64"
      ]
     },
     "execution_count": 49,
     "metadata": {},
     "output_type": "execute_result"
    }
   ],
   "source": [
    "# Looking at the 'Sqft_basement' values and their counts \n",
    "\n",
    "df.sqft_basement.value_counts(normalize= True)"
   ]
  },
  {
   "cell_type": "code",
   "execution_count": 50,
   "metadata": {
    "ExecuteTime": {
     "end_time": "2021-01-26T19:40:41.871899Z",
     "start_time": "2021-01-26T19:40:41.744413Z"
    }
   },
   "outputs": [
    {
     "data": {
      "text/plain": [
       "<matplotlib.axes._subplots.AxesSubplot at 0x7f81f18401c0>"
      ]
     },
     "execution_count": 50,
     "metadata": {},
     "output_type": "execute_result"
    },
    {
     "data": {
      "image/png": "[encoded data removed]",
      "text/plain": [
       "<Figure size 360x216 with 1 Axes>"
      ]
     },
     "metadata": {
      "needs_background": "light"
     },
     "output_type": "display_data"
    }
   ],
   "source": [
    "# Graphed the 'sqdt_Basement' values and their counts \n",
    "\n",
    "df['sqft_basement'].hist(figsize= (5,3))"
   ]
  },
  {
   "cell_type": "code",
   "execution_count": 51,
   "metadata": {
    "ExecuteTime": {
     "end_time": "2021-01-26T19:40:41.901495Z",
     "start_time": "2021-01-26T19:40:41.873700Z"
    }
   },
   "outputs": [],
   "source": [
    "# Sqft_ Basement \n",
    "\n",
    "df['has_basement'] =df['sqft_basement'].apply(lambda x: 1 if x >0 else 0)\n",
    "df['no_basement'] =df['sqft_basement'].apply(lambda x: 1 if x == 0 else 0)\n",
    "df.drop(columns = 'sqft_basement', axis= 1 , inplace= True)"
   ]
  },
  {
   "cell_type": "code",
   "execution_count": 52,
   "metadata": {
    "ExecuteTime": {
     "end_time": "2021-01-26T19:40:41.917582Z",
     "start_time": "2021-01-26T19:40:41.903244Z"
    }
   },
   "outputs": [
    {
     "name": "stdout",
     "output_type": "stream",
     "text": [
      "<class 'pandas.core.frame.DataFrame'>\n",
      "Int64Index: 21047 entries, 0 to 21596\n",
      "Data columns (total 35 columns):\n",
      " #   Column          Non-Null Count  Dtype  \n",
      "---  ------          --------------  -----  \n",
      " 0   id              21047 non-null  int64  \n",
      " 1   date            21047 non-null  object \n",
      " 2   price           21047 non-null  float64\n",
      " 3   bathrooms       21047 non-null  float64\n",
      " 4   sqft_living     21047 non-null  int64  \n",
      " 5   sqft_lot        21047 non-null  int64  \n",
      " 6   floors          21047 non-null  float64\n",
      " 7   waterfront      21047 non-null  float64\n",
      " 8   view            21047 non-null  float64\n",
      " 9   sqft_above      21047 non-null  int64  \n",
      " 10  yr_built        21047 non-null  int64  \n",
      " 11  zipcode         21047 non-null  int64  \n",
      " 12  lat             21047 non-null  float64\n",
      " 13  long            21047 non-null  float64\n",
      " 14  sqft_living15   21047 non-null  int64  \n",
      " 15  sqft_lot15      21047 non-null  int64  \n",
      " 16  bed2            21047 non-null  int64  \n",
      " 17  bed3            21047 non-null  int64  \n",
      " 18  bed4            21047 non-null  int64  \n",
      " 19  bed5            21047 non-null  int64  \n",
      " 20  bed5+           21047 non-null  int64  \n",
      " 21  con2_under      21047 non-null  int64  \n",
      " 22  con3            21047 non-null  int64  \n",
      " 23  con4            21047 non-null  int64  \n",
      " 24  con5            21047 non-null  int64  \n",
      " 25  grade5_under    21047 non-null  int64  \n",
      " 26  grade6          21047 non-null  int64  \n",
      " 27  grade7          21047 non-null  int64  \n",
      " 28  grade8          21047 non-null  int64  \n",
      " 29  grade9          21047 non-null  int64  \n",
      " 30  grade10_up      21047 non-null  int64  \n",
      " 31  been_renovated  21047 non-null  int64  \n",
      " 32  not_renovated   21047 non-null  int64  \n",
      " 33  has_basement    21047 non-null  int64  \n",
      " 34  no_basement     21047 non-null  int64  \n",
      "dtypes: float64(7), int64(27), object(1)\n",
      "memory usage: 5.8+ MB\n"
     ]
    }
   ],
   "source": [
    "# Check work \n",
    "df.info()"
   ]
  },
  {
   "cell_type": "code",
   "execution_count": 53,
   "metadata": {
    "ExecuteTime": {
     "end_time": "2021-01-26T19:40:41.923871Z",
     "start_time": "2021-01-26T19:40:41.919154Z"
    }
   },
   "outputs": [],
   "source": [
    "# -MODEL2-\n",
    "import statsmodels.formula as smf\n",
    "import statsmodels.api as sm\n",
    "from statsmodels.formula.api import ols\n",
    "\n",
    "outcome = 'price'\n",
    "x_cols = df.drop(['price', 'date', 'id', 'zipcode', 'sqft_above', 'sqft_lot15', \n",
    "                  'sqft_living15', 'long', 'lat','yr_built', 'view', 'waterfront',\n",
    "                'floors', 'sqft_lot' ], axis = 1).columns\n",
    "predictors = '+'.join(x_cols)\n",
    "\n",
    "f = outcome + '~' + predictors"
   ]
  },
  {
   "cell_type": "code",
   "execution_count": 54,
   "metadata": {
    "ExecuteTime": {
     "end_time": "2021-01-26T19:40:42.022965Z",
     "start_time": "2021-01-26T19:40:41.926437Z"
    }
   },
   "outputs": [
    {
     "data": {
      "text/html": [
       "<table class=\"simpletable\">\n",
       "<caption>OLS Regression Results</caption>\n",
       "<tr>\n",
       "  <th>Dep. Variable:</th>          <td>price</td>      <th>  R-squared:         </th>  <td>   0.551</td>  \n",
       "</tr>\n",
       "<tr>\n",
       "  <th>Model:</th>                   <td>OLS</td>       <th>  Adj. R-squared:    </th>  <td>   0.550</td>  \n",
       "</tr>\n",
       "<tr>\n",
       "  <th>Method:</th>             <td>Least Squares</td>  <th>  F-statistic:       </th>  <td>   1611.</td>  \n",
       "</tr>\n",
       "<tr>\n",
       "  <th>Date:</th>             <td>Tue, 26 Jan 2021</td> <th>  Prob (F-statistic):</th>   <td>  0.00</td>   \n",
       "</tr>\n",
       "<tr>\n",
       "  <th>Time:</th>                 <td>12:40:42</td>     <th>  Log-Likelihood:    </th> <td>-2.8271e+05</td>\n",
       "</tr>\n",
       "<tr>\n",
       "  <th>No. Observations:</th>      <td> 21047</td>      <th>  AIC:               </th>  <td>5.655e+05</td> \n",
       "</tr>\n",
       "<tr>\n",
       "  <th>Df Residuals:</th>          <td> 21030</td>      <th>  BIC:               </th>  <td>5.656e+05</td> \n",
       "</tr>\n",
       "<tr>\n",
       "  <th>Df Model:</th>              <td>    16</td>      <th>                     </th>      <td> </td>     \n",
       "</tr>\n",
       "<tr>\n",
       "  <th>Covariance Type:</th>      <td>nonrobust</td>    <th>                     </th>      <td> </td>     \n",
       "</tr>\n",
       "</table>\n",
       "<table class=\"simpletable\">\n",
       "<tr>\n",
       "         <td></td>           <th>coef</th>     <th>std err</th>      <th>t</th>      <th>P>|t|</th>  <th>[0.025</th>    <th>0.975]</th>  \n",
       "</tr>\n",
       "<tr>\n",
       "  <th>Intercept</th>      <td> 1.711e+05</td> <td> 5680.577</td> <td>   30.116</td> <td> 0.000</td> <td>  1.6e+05</td> <td> 1.82e+05</td>\n",
       "</tr>\n",
       "<tr>\n",
       "  <th>bathrooms</th>      <td>-8811.3780</td> <td> 2473.109</td> <td>   -3.563</td> <td> 0.000</td> <td>-1.37e+04</td> <td>-3963.894</td>\n",
       "</tr>\n",
       "<tr>\n",
       "  <th>sqft_living</th>    <td>  105.5362</td> <td>    2.762</td> <td>   38.206</td> <td> 0.000</td> <td>  100.122</td> <td>  110.950</td>\n",
       "</tr>\n",
       "<tr>\n",
       "  <th>bed2</th>           <td> 4.377e+04</td> <td>  1.1e+04</td> <td>    3.995</td> <td> 0.000</td> <td> 2.23e+04</td> <td> 6.52e+04</td>\n",
       "</tr>\n",
       "<tr>\n",
       "  <th>bed3</th>           <td>-1.051e+04</td> <td> 1.02e+04</td> <td>   -1.026</td> <td> 0.305</td> <td>-3.06e+04</td> <td> 9571.926</td>\n",
       "</tr>\n",
       "<tr>\n",
       "  <th>bed4</th>           <td>-1.686e+04</td> <td> 1.01e+04</td> <td>   -1.676</td> <td> 0.094</td> <td>-3.66e+04</td> <td> 2861.415</td>\n",
       "</tr>\n",
       "<tr>\n",
       "  <th>bed5</th>           <td>-6505.9294</td> <td> 1.06e+04</td> <td>   -0.611</td> <td> 0.541</td> <td>-2.74e+04</td> <td> 1.44e+04</td>\n",
       "</tr>\n",
       "<tr>\n",
       "  <th>con2_under</th>     <td>-7476.6828</td> <td> 9350.163</td> <td>   -0.800</td> <td> 0.424</td> <td>-2.58e+04</td> <td> 1.09e+04</td>\n",
       "</tr>\n",
       "<tr>\n",
       "  <th>con3</th>           <td> 7775.2855</td> <td> 3469.327</td> <td>    2.241</td> <td> 0.025</td> <td>  975.137</td> <td> 1.46e+04</td>\n",
       "</tr>\n",
       "<tr>\n",
       "  <th>con4</th>           <td> 5.029e+04</td> <td> 3598.526</td> <td>   13.976</td> <td> 0.000</td> <td> 4.32e+04</td> <td> 5.73e+04</td>\n",
       "</tr>\n",
       "<tr>\n",
       "  <th>con5</th>           <td> 1.205e+05</td> <td> 4452.264</td> <td>   27.062</td> <td> 0.000</td> <td> 1.12e+05</td> <td> 1.29e+05</td>\n",
       "</tr>\n",
       "<tr>\n",
       "  <th>grade5_under</th>   <td>-1.645e+05</td> <td> 8925.458</td> <td>  -18.430</td> <td> 0.000</td> <td>-1.82e+05</td> <td>-1.47e+05</td>\n",
       "</tr>\n",
       "<tr>\n",
       "  <th>grade6</th>         <td>-1.295e+05</td> <td> 4004.700</td> <td>  -32.328</td> <td> 0.000</td> <td>-1.37e+05</td> <td>-1.22e+05</td>\n",
       "</tr>\n",
       "<tr>\n",
       "  <th>grade7</th>         <td> -6.51e+04</td> <td> 2636.280</td> <td>  -24.693</td> <td> 0.000</td> <td>-7.03e+04</td> <td>-5.99e+04</td>\n",
       "</tr>\n",
       "<tr>\n",
       "  <th>grade8</th>         <td> 3.235e+04</td> <td> 2963.712</td> <td>   10.916</td> <td> 0.000</td> <td> 2.65e+04</td> <td> 3.82e+04</td>\n",
       "</tr>\n",
       "<tr>\n",
       "  <th>grade9</th>         <td> 1.755e+05</td> <td> 4164.411</td> <td>   42.142</td> <td> 0.000</td> <td> 1.67e+05</td> <td> 1.84e+05</td>\n",
       "</tr>\n",
       "<tr>\n",
       "  <th>grade10_up</th>     <td> 3.223e+05</td> <td> 5981.993</td> <td>   53.876</td> <td> 0.000</td> <td> 3.11e+05</td> <td> 3.34e+05</td>\n",
       "</tr>\n",
       "<tr>\n",
       "  <th>been_renovated</th> <td> 1.497e+05</td> <td> 4782.011</td> <td>   31.298</td> <td> 0.000</td> <td>  1.4e+05</td> <td> 1.59e+05</td>\n",
       "</tr>\n",
       "<tr>\n",
       "  <th>not_renovated</th>  <td> 2.141e+04</td> <td> 3768.034</td> <td>    5.682</td> <td> 0.000</td> <td>  1.4e+04</td> <td> 2.88e+04</td>\n",
       "</tr>\n",
       "<tr>\n",
       "  <th>has_basement</th>   <td> 1.115e+05</td> <td> 3224.569</td> <td>   34.571</td> <td> 0.000</td> <td> 1.05e+05</td> <td> 1.18e+05</td>\n",
       "</tr>\n",
       "<tr>\n",
       "  <th>no_basement</th>    <td>  5.96e+04</td> <td> 2969.971</td> <td>   20.068</td> <td> 0.000</td> <td> 5.38e+04</td> <td> 6.54e+04</td>\n",
       "</tr>\n",
       "</table>\n",
       "<table class=\"simpletable\">\n",
       "<tr>\n",
       "  <th>Omnibus:</th>       <td>2809.947</td> <th>  Durbin-Watson:     </th> <td>   1.972</td>\n",
       "</tr>\n",
       "<tr>\n",
       "  <th>Prob(Omnibus):</th>  <td> 0.000</td>  <th>  Jarque-Bera (JB):  </th> <td>5852.069</td>\n",
       "</tr>\n",
       "<tr>\n",
       "  <th>Skew:</th>           <td> 0.822</td>  <th>  Prob(JB):          </th> <td>    0.00</td>\n",
       "</tr>\n",
       "<tr>\n",
       "  <th>Kurtosis:</th>       <td> 4.992</td>  <th>  Cond. No.          </th> <td>3.42e+19</td>\n",
       "</tr>\n",
       "</table><br/><br/>Warnings:<br/>[1] Standard Errors assume that the covariance matrix of the errors is correctly specified.<br/>[2] The smallest eigenvalue is 8.52e-29. This might indicate that there are<br/>strong multicollinearity problems or that the design matrix is singular."
      ],
      "text/plain": [
       "<class 'statsmodels.iolib.summary.Summary'>\n",
       "\"\"\"\n",
       "                            OLS Regression Results                            \n",
       "==============================================================================\n",
       "Dep. Variable:                  price   R-squared:                       0.551\n",
       "Model:                            OLS   Adj. R-squared:                  0.550\n",
       "Method:                 Least Squares   F-statistic:                     1611.\n",
       "Date:                Tue, 26 Jan 2021   Prob (F-statistic):               0.00\n",
       "Time:                        12:40:42   Log-Likelihood:            -2.8271e+05\n",
       "No. Observations:               21047   AIC:                         5.655e+05\n",
       "Df Residuals:                   21030   BIC:                         5.656e+05\n",
       "Df Model:                          16                                         \n",
       "Covariance Type:            nonrobust                                         \n",
       "==================================================================================\n",
       "                     coef    std err          t      P>|t|      [0.025      0.975]\n",
       "----------------------------------------------------------------------------------\n",
       "Intercept       1.711e+05   5680.577     30.116      0.000     1.6e+05    1.82e+05\n",
       "bathrooms      -8811.3780   2473.109     -3.563      0.000   -1.37e+04   -3963.894\n",
       "sqft_living      105.5362      2.762     38.206      0.000     100.122     110.950\n",
       "bed2            4.377e+04    1.1e+04      3.995      0.000    2.23e+04    6.52e+04\n",
       "bed3           -1.051e+04   1.02e+04     -1.026      0.305   -3.06e+04    9571.926\n",
       "bed4           -1.686e+04   1.01e+04     -1.676      0.094   -3.66e+04    2861.415\n",
       "bed5           -6505.9294   1.06e+04     -0.611      0.541   -2.74e+04    1.44e+04\n",
       "con2_under     -7476.6828   9350.163     -0.800      0.424   -2.58e+04    1.09e+04\n",
       "con3            7775.2855   3469.327      2.241      0.025     975.137    1.46e+04\n",
       "con4            5.029e+04   3598.526     13.976      0.000    4.32e+04    5.73e+04\n",
       "con5            1.205e+05   4452.264     27.062      0.000    1.12e+05    1.29e+05\n",
       "grade5_under   -1.645e+05   8925.458    -18.430      0.000   -1.82e+05   -1.47e+05\n",
       "grade6         -1.295e+05   4004.700    -32.328      0.000   -1.37e+05   -1.22e+05\n",
       "grade7          -6.51e+04   2636.280    -24.693      0.000   -7.03e+04   -5.99e+04\n",
       "grade8          3.235e+04   2963.712     10.916      0.000    2.65e+04    3.82e+04\n",
       "grade9          1.755e+05   4164.411     42.142      0.000    1.67e+05    1.84e+05\n",
       "grade10_up      3.223e+05   5981.993     53.876      0.000    3.11e+05    3.34e+05\n",
       "been_renovated  1.497e+05   4782.011     31.298      0.000     1.4e+05    1.59e+05\n",
       "not_renovated   2.141e+04   3768.034      5.682      0.000     1.4e+04    2.88e+04\n",
       "has_basement    1.115e+05   3224.569     34.571      0.000    1.05e+05    1.18e+05\n",
       "no_basement      5.96e+04   2969.971     20.068      0.000    5.38e+04    6.54e+04\n",
       "==============================================================================\n",
       "Omnibus:                     2809.947   Durbin-Watson:                   1.972\n",
       "Prob(Omnibus):                  0.000   Jarque-Bera (JB):             5852.069\n",
       "Skew:                           0.822   Prob(JB):                         0.00\n",
       "Kurtosis:                       4.992   Cond. No.                     3.42e+19\n",
       "==============================================================================\n",
       "\n",
       "Warnings:\n",
       "[1] Standard Errors assume that the covariance matrix of the errors is correctly specified.\n",
       "[2] The smallest eigenvalue is 8.52e-29. This might indicate that there are\n",
       "strong multicollinearity problems or that the design matrix is singular.\n",
       "\"\"\""
      ]
     },
     "execution_count": 54,
     "metadata": {},
     "output_type": "execute_result"
    }
   ],
   "source": [
    "model2 = ols(formula= f, data = df).fit()\n",
    "model2.summary()\n"
   ]
  },
  {
   "cell_type": "code",
   "execution_count": 55,
   "metadata": {
    "ExecuteTime": {
     "end_time": "2021-01-26T19:40:42.298430Z",
     "start_time": "2021-01-26T19:40:42.025208Z"
    }
   },
   "outputs": [
    {
     "name": "stdout",
     "output_type": "stream",
     "text": [
      "Train MSE: 27540574350.439175\n",
      "Test MSE: 25914843154.64123\n",
      "RMSE Train: 165953.53069591252\n",
      "RMSE Test: 160980.878226705\n"
     ]
    },
    {
     "data": {
      "image/png": "[encoded data removed]",
      "text/plain": [
       "<Figure size 432x288 with 1 Axes>"
      ]
     },
     "execution_count": 55,
     "metadata": {},
     "output_type": "execute_result"
    },
    {
     "data": {
      "image/png": "[encoded data removed]",
      "text/plain": [
       "<Figure size 432x288 with 1 Axes>"
      ]
     },
     "metadata": {
      "needs_background": "light"
     },
     "output_type": "display_data"
    }
   ],
   "source": [
    "\n",
    "from sklearn.model_selection import train_test_split\n",
    "from sklearn.metrics import mean_squared_error\n",
    "import statsmodels\n",
    "from sklearn.metrics import r2_score\n",
    "\n",
    "data = df.copy()\n",
    "\n",
    "y = data['price']\n",
    "X = data.drop(['price', 'date', 'id', 'zipcode', 'sqft_above', 'sqft_lot15', \n",
    "                  'sqft_living15', 'long', 'lat','yr_built', 'view', 'waterfront',\n",
    "                'floors', 'sqft_lot'], axis = 1)\n",
    "\n",
    "X_train, X_test, y_train, y_test = train_test_split(X, y, test_size = 0.2)\n",
    "\n",
    "len(X_test)\n",
    "\n",
    "linreg = LinearRegression()\n",
    "linreg.fit(X_train, y_train)\n",
    "\n",
    "y_hat_train = linreg.predict(X_train)\n",
    "y_hat_test = linreg.predict(X_test)\n",
    "\n",
    "\n",
    "mse_train = mean_squared_error(y_train, y_hat_train)\n",
    "mse_test = mean_squared_error(y_test, y_hat_test)\n",
    "\n",
    "print('Train MSE:', mse_train)\n",
    "print('Test MSE:', mse_test)\n",
    "\n",
    "print('RMSE Train:', np.sqrt(mse_train))\n",
    "print('RMSE Test:', np.sqrt(mse_test))\n",
    "\n",
    "r2_score(y_test, y_hat_test)\n",
    "\n",
    "residuals = (y_test - y_hat_test)\n",
    "\n",
    "statsmodels.graphics.gofplots.qqplot(residuals, line = \"r\")"
   ]
  },
  {
   "cell_type": "markdown",
   "metadata": {},
   "source": [
    "# -MODEL3- "
   ]
  },
  {
   "cell_type": "code",
   "execution_count": 56,
   "metadata": {
    "ExecuteTime": {
     "end_time": "2021-01-26T19:40:42.946922Z",
     "start_time": "2021-01-26T19:40:42.300235Z"
    }
   },
   "outputs": [
    {
     "data": {
      "text/plain": [
       "<matplotlib.axes._subplots.AxesSubplot at 0x7f81f1822fa0>"
      ]
     },
     "execution_count": 56,
     "metadata": {},
     "output_type": "execute_result"
    },
    {
     "data": {
      "image/png": "[encoded data removed]",
      "text/plain": [
       "<Figure size 648x504 with 1 Axes>"
      ]
     },
     "metadata": {
      "needs_background": "light"
     },
     "output_type": "display_data"
    }
   ],
   "source": [
    "# work on ZipCode, long, lot \n",
    "plt.figure(figsize=(9, 7))\n",
    "sns.scatterplot(x= 'long', y= 'lat', hue= 'zipcode', data= df)"
   ]
  },
  {
   "cell_type": "code",
   "execution_count": 57,
   "metadata": {
    "ExecuteTime": {
     "end_time": "2021-01-26T19:40:42.953672Z",
     "start_time": "2021-01-26T19:40:42.948583Z"
    }
   },
   "outputs": [],
   "source": [
    "# Made Zipcode Dummies \n",
    "zip_dummies = pd.get_dummies(df['zipcode'], prefix = 'zipcode')\n"
   ]
  },
  {
   "cell_type": "code",
   "execution_count": 58,
   "metadata": {
    "ExecuteTime": {
     "end_time": "2021-01-26T19:40:42.966155Z",
     "start_time": "2021-01-26T19:40:42.955395Z"
    }
   },
   "outputs": [],
   "source": [
    "df_zip_dummies = pd.concat([df, zip_dummies], axis = 1)\n"
   ]
  },
  {
   "cell_type": "code",
   "execution_count": 59,
   "metadata": {
    "ExecuteTime": {
     "end_time": "2021-01-26T19:40:42.982416Z",
     "start_time": "2021-01-26T19:40:42.967655Z"
    }
   },
   "outputs": [
    {
     "name": "stdout",
     "output_type": "stream",
     "text": [
      "<class 'pandas.core.frame.DataFrame'>\n",
      "Int64Index: 21047 entries, 0 to 21596\n",
      "Columns: 105 entries, id to zipcode_98199\n",
      "dtypes: float64(7), int64(27), object(1), uint8(70)\n",
      "memory usage: 7.2+ MB\n"
     ]
    }
   ],
   "source": [
    "df_zip_dummies.info()"
   ]
  },
  {
   "cell_type": "code",
   "execution_count": 60,
   "metadata": {
    "ExecuteTime": {
     "end_time": "2021-01-26T19:40:42.993157Z",
     "start_time": "2021-01-26T19:40:42.984014Z"
    }
   },
   "outputs": [],
   "source": [
    "# Decided to drop less columns than i did in Model2 with zipdummies \n",
    "import statsmodels.formula as smf\n",
    "import statsmodels.api as sm\n",
    "from statsmodels.formula.api import ols\n",
    "\n",
    "outcome = 'price'\n",
    "x_cols = df_zip_dummies.drop(['price', 'id', 'sqft_above', 'sqft_lot15', \n",
    "                  'sqft_living15', 'sqft_lot','date'], axis = 1).columns\n",
    "predictors = '+'.join(x_cols)\n",
    "\n",
    "f = outcome + '~' + predictors"
   ]
  },
  {
   "cell_type": "code",
   "execution_count": 61,
   "metadata": {
    "ExecuteTime": {
     "end_time": "2021-01-26T19:40:43.440763Z",
     "start_time": "2021-01-26T19:40:42.994837Z"
    }
   },
   "outputs": [
    {
     "data": {
      "text/html": [
       "<table class=\"simpletable\">\n",
       "<caption>OLS Regression Results</caption>\n",
       "<tr>\n",
       "  <th>Dep. Variable:</th>          <td>price</td>      <th>  R-squared:         </th>  <td>   0.834</td>  \n",
       "</tr>\n",
       "<tr>\n",
       "  <th>Model:</th>                   <td>OLS</td>       <th>  Adj. R-squared:    </th>  <td>   0.833</td>  \n",
       "</tr>\n",
       "<tr>\n",
       "  <th>Method:</th>             <td>Least Squares</td>  <th>  F-statistic:       </th>  <td>   1158.</td>  \n",
       "</tr>\n",
       "<tr>\n",
       "  <th>Date:</th>             <td>Tue, 26 Jan 2021</td> <th>  Prob (F-statistic):</th>   <td>  0.00</td>   \n",
       "</tr>\n",
       "<tr>\n",
       "  <th>Time:</th>                 <td>12:40:43</td>     <th>  Log-Likelihood:    </th> <td>-2.7223e+05</td>\n",
       "</tr>\n",
       "<tr>\n",
       "  <th>No. Observations:</th>      <td> 21047</td>      <th>  AIC:               </th>  <td>5.446e+05</td> \n",
       "</tr>\n",
       "<tr>\n",
       "  <th>Df Residuals:</th>          <td> 20955</td>      <th>  BIC:               </th>  <td>5.454e+05</td> \n",
       "</tr>\n",
       "<tr>\n",
       "  <th>Df Model:</th>              <td>    91</td>      <th>                     </th>      <td> </td>     \n",
       "</tr>\n",
       "<tr>\n",
       "  <th>Covariance Type:</th>      <td>nonrobust</td>    <th>                     </th>      <td> </td>     \n",
       "</tr>\n",
       "</table>\n",
       "<table class=\"simpletable\">\n",
       "<tr>\n",
       "         <td></td>           <th>coef</th>     <th>std err</th>      <th>t</th>      <th>P>|t|</th>  <th>[0.025</th>    <th>0.975]</th>  \n",
       "</tr>\n",
       "<tr>\n",
       "  <th>Intercept</th>      <td> -286.7072</td> <td>   42.982</td> <td>   -6.670</td> <td> 0.000</td> <td> -370.956</td> <td> -202.459</td>\n",
       "</tr>\n",
       "<tr>\n",
       "  <th>bathrooms</th>      <td> 1.782e+04</td> <td> 1726.250</td> <td>   10.324</td> <td> 0.000</td> <td> 1.44e+04</td> <td> 2.12e+04</td>\n",
       "</tr>\n",
       "<tr>\n",
       "  <th>sqft_living</th>    <td>  124.3132</td> <td>    1.791</td> <td>   69.393</td> <td> 0.000</td> <td>  120.802</td> <td>  127.825</td>\n",
       "</tr>\n",
       "<tr>\n",
       "  <th>floors</th>         <td>-1.491e+04</td> <td> 1960.440</td> <td>   -7.604</td> <td> 0.000</td> <td>-1.88e+04</td> <td>-1.11e+04</td>\n",
       "</tr>\n",
       "<tr>\n",
       "  <th>waterfront</th>     <td>  2.39e+05</td> <td> 1.27e+04</td> <td>   18.801</td> <td> 0.000</td> <td> 2.14e+05</td> <td> 2.64e+05</td>\n",
       "</tr>\n",
       "<tr>\n",
       "  <th>view</th>           <td> 4.348e+04</td> <td> 1133.259</td> <td>   38.370</td> <td> 0.000</td> <td> 4.13e+04</td> <td> 4.57e+04</td>\n",
       "</tr>\n",
       "<tr>\n",
       "  <th>yr_built</th>       <td> -507.2213</td> <td>   41.812</td> <td>  -12.131</td> <td> 0.000</td> <td> -589.176</td> <td> -425.267</td>\n",
       "</tr>\n",
       "<tr>\n",
       "  <th>zipcode</th>        <td> -138.8392</td> <td>   39.537</td> <td>   -3.512</td> <td> 0.000</td> <td> -216.334</td> <td>  -61.344</td>\n",
       "</tr>\n",
       "<tr>\n",
       "  <th>lat</th>            <td>  1.39e+05</td> <td> 4.01e+04</td> <td>    3.465</td> <td> 0.001</td> <td> 6.04e+04</td> <td> 2.18e+05</td>\n",
       "</tr>\n",
       "<tr>\n",
       "  <th>long</th>           <td>-6.735e+04</td> <td> 2.87e+04</td> <td>   -2.347</td> <td> 0.019</td> <td>-1.24e+05</td> <td>-1.11e+04</td>\n",
       "</tr>\n",
       "<tr>\n",
       "  <th>bed2</th>           <td> 4.974e+04</td> <td> 6766.132</td> <td>    7.351</td> <td> 0.000</td> <td> 3.65e+04</td> <td>  6.3e+04</td>\n",
       "</tr>\n",
       "<tr>\n",
       "  <th>bed3</th>           <td> 5.509e+04</td> <td> 6324.000</td> <td>    8.711</td> <td> 0.000</td> <td> 4.27e+04</td> <td> 6.75e+04</td>\n",
       "</tr>\n",
       "<tr>\n",
       "  <th>bed4</th>           <td> 5.144e+04</td> <td> 6192.404</td> <td>    8.307</td> <td> 0.000</td> <td> 3.93e+04</td> <td> 6.36e+04</td>\n",
       "</tr>\n",
       "<tr>\n",
       "  <th>bed5</th>           <td> 3.655e+04</td> <td> 6513.654</td> <td>    5.612</td> <td> 0.000</td> <td> 2.38e+04</td> <td> 4.93e+04</td>\n",
       "</tr>\n",
       "<tr>\n",
       "  <th>con2_under</th>     <td>-3.908e+04</td> <td> 5498.601</td> <td>   -7.108</td> <td> 0.000</td> <td>-4.99e+04</td> <td>-2.83e+04</td>\n",
       "</tr>\n",
       "<tr>\n",
       "  <th>con3</th>           <td>-9630.9989</td> <td> 2156.470</td> <td>   -4.466</td> <td> 0.000</td> <td>-1.39e+04</td> <td>-5404.151</td>\n",
       "</tr>\n",
       "<tr>\n",
       "  <th>con4</th>           <td> 7557.2128</td> <td> 2195.057</td> <td>    3.443</td> <td> 0.001</td> <td> 3254.731</td> <td> 1.19e+04</td>\n",
       "</tr>\n",
       "<tr>\n",
       "  <th>con5</th>           <td> 4.087e+04</td> <td> 2687.990</td> <td>   15.205</td> <td> 0.000</td> <td> 3.56e+04</td> <td> 4.61e+04</td>\n",
       "</tr>\n",
       "<tr>\n",
       "  <th>grade5_under</th>   <td>-8.562e+04</td> <td> 5649.712</td> <td>  -15.154</td> <td> 0.000</td> <td>-9.67e+04</td> <td>-7.45e+04</td>\n",
       "</tr>\n",
       "<tr>\n",
       "  <th>grade6</th>         <td>-8.473e+04</td> <td> 2724.692</td> <td>  -31.097</td> <td> 0.000</td> <td>-9.01e+04</td> <td>-7.94e+04</td>\n",
       "</tr>\n",
       "<tr>\n",
       "  <th>grade7</th>         <td>-6.226e+04</td> <td> 1747.797</td> <td>  -35.623</td> <td> 0.000</td> <td>-6.57e+04</td> <td>-5.88e+04</td>\n",
       "</tr>\n",
       "<tr>\n",
       "  <th>grade8</th>         <td>-1.724e+04</td> <td> 1810.674</td> <td>   -9.519</td> <td> 0.000</td> <td>-2.08e+04</td> <td>-1.37e+04</td>\n",
       "</tr>\n",
       "<tr>\n",
       "  <th>grade9</th>         <td> 7.331e+04</td> <td> 2511.512</td> <td>   29.188</td> <td> 0.000</td> <td> 6.84e+04</td> <td> 7.82e+04</td>\n",
       "</tr>\n",
       "<tr>\n",
       "  <th>grade10_up</th>     <td> 1.763e+05</td> <td> 3611.730</td> <td>   48.800</td> <td> 0.000</td> <td> 1.69e+05</td> <td> 1.83e+05</td>\n",
       "</tr>\n",
       "<tr>\n",
       "  <th>been_renovated</th> <td> 1.868e+04</td> <td> 2084.676</td> <td>    8.962</td> <td> 0.000</td> <td> 1.46e+04</td> <td> 2.28e+04</td>\n",
       "</tr>\n",
       "<tr>\n",
       "  <th>not_renovated</th>  <td>-1.897e+04</td> <td> 2086.832</td> <td>   -9.090</td> <td> 0.000</td> <td>-2.31e+04</td> <td>-1.49e+04</td>\n",
       "</tr>\n",
       "<tr>\n",
       "  <th>has_basement</th>   <td>-1.214e+04</td> <td>  910.028</td> <td>  -13.336</td> <td> 0.000</td> <td>-1.39e+04</td> <td>-1.04e+04</td>\n",
       "</tr>\n",
       "<tr>\n",
       "  <th>no_basement</th>    <td> 1.185e+04</td> <td>  901.108</td> <td>   13.150</td> <td> 0.000</td> <td> 1.01e+04</td> <td> 1.36e+04</td>\n",
       "</tr>\n",
       "<tr>\n",
       "  <th>zipcode_98001</th>  <td>-1.693e+05</td> <td> 1.11e+04</td> <td>  -15.274</td> <td> 0.000</td> <td>-1.91e+05</td> <td>-1.48e+05</td>\n",
       "</tr>\n",
       "<tr>\n",
       "  <th>zipcode_98002</th>  <td>-1.624e+05</td> <td> 1.15e+04</td> <td>  -14.153</td> <td> 0.000</td> <td>-1.85e+05</td> <td> -1.4e+05</td>\n",
       "</tr>\n",
       "<tr>\n",
       "  <th>zipcode_98003</th>  <td> -1.79e+05</td> <td> 1.18e+04</td> <td>  -15.218</td> <td> 0.000</td> <td>-2.02e+05</td> <td>-1.56e+05</td>\n",
       "</tr>\n",
       "<tr>\n",
       "  <th>zipcode_98004</th>  <td> 3.815e+05</td> <td> 8226.414</td> <td>   46.373</td> <td> 0.000</td> <td> 3.65e+05</td> <td> 3.98e+05</td>\n",
       "</tr>\n",
       "<tr>\n",
       "  <th>zipcode_98005</th>  <td> 1.271e+05</td> <td> 8801.291</td> <td>   14.446</td> <td> 0.000</td> <td>  1.1e+05</td> <td> 1.44e+05</td>\n",
       "</tr>\n",
       "<tr>\n",
       "  <th>zipcode_98006</th>  <td> 8.419e+04</td> <td> 5099.593</td> <td>   16.509</td> <td> 0.000</td> <td> 7.42e+04</td> <td> 9.42e+04</td>\n",
       "</tr>\n",
       "<tr>\n",
       "  <th>zipcode_98007</th>  <td> 5.551e+04</td> <td> 9184.643</td> <td>    6.044</td> <td> 0.000</td> <td> 3.75e+04</td> <td> 7.35e+04</td>\n",
       "</tr>\n",
       "<tr>\n",
       "  <th>zipcode_98008</th>  <td> 4.552e+04</td> <td> 7182.516</td> <td>    6.338</td> <td> 0.000</td> <td> 3.14e+04</td> <td> 5.96e+04</td>\n",
       "</tr>\n",
       "<tr>\n",
       "  <th>zipcode_98010</th>  <td>-7.074e+04</td> <td> 1.29e+04</td> <td>   -5.497</td> <td> 0.000</td> <td> -9.6e+04</td> <td>-4.55e+04</td>\n",
       "</tr>\n",
       "<tr>\n",
       "  <th>zipcode_98011</th>  <td>-7.962e+04</td> <td> 1.19e+04</td> <td>   -6.709</td> <td> 0.000</td> <td>-1.03e+05</td> <td>-5.64e+04</td>\n",
       "</tr>\n",
       "<tr>\n",
       "  <th>zipcode_98014</th>  <td>-7.272e+04</td> <td> 1.38e+04</td> <td>   -5.253</td> <td> 0.000</td> <td>-9.99e+04</td> <td>-4.56e+04</td>\n",
       "</tr>\n",
       "<tr>\n",
       "  <th>zipcode_98019</th>  <td>-9.395e+04</td> <td> 1.26e+04</td> <td>   -7.451</td> <td> 0.000</td> <td>-1.19e+05</td> <td>-6.92e+04</td>\n",
       "</tr>\n",
       "<tr>\n",
       "  <th>zipcode_98022</th>  <td>-1.284e+05</td> <td> 1.46e+04</td> <td>   -8.780</td> <td> 0.000</td> <td>-1.57e+05</td> <td>-9.97e+04</td>\n",
       "</tr>\n",
       "<tr>\n",
       "  <th>zipcode_98023</th>  <td>-1.952e+05</td> <td> 1.21e+04</td> <td>  -16.150</td> <td> 0.000</td> <td>-2.19e+05</td> <td>-1.71e+05</td>\n",
       "</tr>\n",
       "<tr>\n",
       "  <th>zipcode_98024</th>  <td>-8639.0997</td> <td> 1.36e+04</td> <td>   -0.637</td> <td> 0.524</td> <td>-3.52e+04</td> <td> 1.79e+04</td>\n",
       "</tr>\n",
       "<tr>\n",
       "  <th>zipcode_98027</th>  <td> 1.287e+04</td> <td> 5869.294</td> <td>    2.192</td> <td> 0.028</td> <td> 1361.422</td> <td> 2.44e+04</td>\n",
       "</tr>\n",
       "<tr>\n",
       "  <th>zipcode_98028</th>  <td>-9.009e+04</td> <td>  1.1e+04</td> <td>   -8.167</td> <td> 0.000</td> <td>-1.12e+05</td> <td>-6.85e+04</td>\n",
       "</tr>\n",
       "<tr>\n",
       "  <th>zipcode_98029</th>  <td> 4.197e+04</td> <td> 7210.809</td> <td>    5.820</td> <td> 0.000</td> <td> 2.78e+04</td> <td> 5.61e+04</td>\n",
       "</tr>\n",
       "<tr>\n",
       "  <th>zipcode_98030</th>  <td>-1.597e+05</td> <td> 9159.187</td> <td>  -17.441</td> <td> 0.000</td> <td>-1.78e+05</td> <td>-1.42e+05</td>\n",
       "</tr>\n",
       "<tr>\n",
       "  <th>zipcode_98031</th>  <td> -1.57e+05</td> <td> 8069.893</td> <td>  -19.451</td> <td> 0.000</td> <td>-1.73e+05</td> <td>-1.41e+05</td>\n",
       "</tr>\n",
       "<tr>\n",
       "  <th>zipcode_98032</th>  <td>-1.801e+05</td> <td> 1.17e+04</td> <td>  -15.457</td> <td> 0.000</td> <td>-2.03e+05</td> <td>-1.57e+05</td>\n",
       "</tr>\n",
       "<tr>\n",
       "  <th>zipcode_98033</th>  <td> 1.307e+05</td> <td> 7797.256</td> <td>   16.764</td> <td> 0.000</td> <td> 1.15e+05</td> <td> 1.46e+05</td>\n",
       "</tr>\n",
       "<tr>\n",
       "  <th>zipcode_98034</th>  <td>-2.576e+04</td> <td> 8780.142</td> <td>   -2.934</td> <td> 0.003</td> <td> -4.3e+04</td> <td>-8555.145</td>\n",
       "</tr>\n",
       "<tr>\n",
       "  <th>zipcode_98038</th>  <td>-1.089e+05</td> <td> 8482.328</td> <td>  -12.838</td> <td> 0.000</td> <td>-1.26e+05</td> <td>-9.23e+04</td>\n",
       "</tr>\n",
       "<tr>\n",
       "  <th>zipcode_98039</th>  <td>  5.58e+05</td> <td> 2.59e+04</td> <td>   21.532</td> <td> 0.000</td> <td> 5.07e+05</td> <td> 6.09e+05</td>\n",
       "</tr>\n",
       "<tr>\n",
       "  <th>zipcode_98040</th>  <td> 2.588e+05</td> <td> 7093.817</td> <td>   36.488</td> <td> 0.000</td> <td> 2.45e+05</td> <td> 2.73e+05</td>\n",
       "</tr>\n",
       "<tr>\n",
       "  <th>zipcode_98042</th>  <td>-1.484e+05</td> <td> 8184.176</td> <td>  -18.131</td> <td> 0.000</td> <td>-1.64e+05</td> <td>-1.32e+05</td>\n",
       "</tr>\n",
       "<tr>\n",
       "  <th>zipcode_98045</th>  <td>-4.193e+04</td> <td> 1.37e+04</td> <td>   -3.060</td> <td> 0.002</td> <td>-6.88e+04</td> <td>-1.51e+04</td>\n",
       "</tr>\n",
       "<tr>\n",
       "  <th>zipcode_98052</th>  <td> 5.209e+04</td> <td> 7331.246</td> <td>    7.106</td> <td> 0.000</td> <td> 3.77e+04</td> <td> 6.65e+04</td>\n",
       "</tr>\n",
       "<tr>\n",
       "  <th>zipcode_98053</th>  <td> 5.025e+04</td> <td> 9014.897</td> <td>    5.574</td> <td> 0.000</td> <td> 3.26e+04</td> <td> 6.79e+04</td>\n",
       "</tr>\n",
       "<tr>\n",
       "  <th>zipcode_98055</th>  <td>-1.377e+05</td> <td> 7038.795</td> <td>  -19.567</td> <td> 0.000</td> <td>-1.52e+05</td> <td>-1.24e+05</td>\n",
       "</tr>\n",
       "<tr>\n",
       "  <th>zipcode_98056</th>  <td>-9.208e+04</td> <td> 5252.498</td> <td>  -17.531</td> <td> 0.000</td> <td>-1.02e+05</td> <td>-8.18e+04</td>\n",
       "</tr>\n",
       "<tr>\n",
       "  <th>zipcode_98058</th>  <td>-1.335e+05</td> <td> 6241.626</td> <td>  -21.384</td> <td> 0.000</td> <td>-1.46e+05</td> <td>-1.21e+05</td>\n",
       "</tr>\n",
       "<tr>\n",
       "  <th>zipcode_98059</th>  <td>-6.373e+04</td> <td> 5346.774</td> <td>  -11.920</td> <td> 0.000</td> <td>-7.42e+04</td> <td>-5.33e+04</td>\n",
       "</tr>\n",
       "<tr>\n",
       "  <th>zipcode_98065</th>  <td>-3.773e+04</td> <td> 1.11e+04</td> <td>   -3.385</td> <td> 0.001</td> <td>-5.96e+04</td> <td>-1.59e+04</td>\n",
       "</tr>\n",
       "<tr>\n",
       "  <th>zipcode_98070</th>  <td>-8.338e+04</td> <td> 1.34e+04</td> <td>   -6.235</td> <td> 0.000</td> <td> -1.1e+05</td> <td>-5.72e+04</td>\n",
       "</tr>\n",
       "<tr>\n",
       "  <th>zipcode_98072</th>  <td>-2.654e+04</td> <td> 1.04e+04</td> <td>   -2.555</td> <td> 0.011</td> <td>-4.69e+04</td> <td>-6182.242</td>\n",
       "</tr>\n",
       "<tr>\n",
       "  <th>zipcode_98074</th>  <td> 1.646e+04</td> <td> 7474.730</td> <td>    2.202</td> <td> 0.028</td> <td> 1808.063</td> <td> 3.11e+04</td>\n",
       "</tr>\n",
       "<tr>\n",
       "  <th>zipcode_98075</th>  <td> 4.248e+04</td> <td> 7855.986</td> <td>    5.407</td> <td> 0.000</td> <td> 2.71e+04</td> <td> 5.79e+04</td>\n",
       "</tr>\n",
       "<tr>\n",
       "  <th>zipcode_98077</th>  <td> -2.46e+04</td> <td> 1.16e+04</td> <td>   -2.118</td> <td> 0.034</td> <td>-4.74e+04</td> <td>-1839.088</td>\n",
       "</tr>\n",
       "<tr>\n",
       "  <th>zipcode_98092</th>  <td>-1.615e+05</td> <td> 1.17e+04</td> <td>  -13.762</td> <td> 0.000</td> <td>-1.84e+05</td> <td>-1.38e+05</td>\n",
       "</tr>\n",
       "<tr>\n",
       "  <th>zipcode_98102</th>  <td> 2.275e+05</td> <td> 1.08e+04</td> <td>   21.003</td> <td> 0.000</td> <td> 2.06e+05</td> <td> 2.49e+05</td>\n",
       "</tr>\n",
       "<tr>\n",
       "  <th>zipcode_98103</th>  <td> 1.106e+05</td> <td> 6714.848</td> <td>   16.468</td> <td> 0.000</td> <td> 9.74e+04</td> <td> 1.24e+05</td>\n",
       "</tr>\n",
       "<tr>\n",
       "  <th>zipcode_98105</th>  <td> 2.201e+05</td> <td> 8159.126</td> <td>   26.976</td> <td> 0.000</td> <td> 2.04e+05</td> <td> 2.36e+05</td>\n",
       "</tr>\n",
       "<tr>\n",
       "  <th>zipcode_98106</th>  <td>-7.997e+04</td> <td> 6554.042</td> <td>  -12.201</td> <td> 0.000</td> <td>-9.28e+04</td> <td>-6.71e+04</td>\n",
       "</tr>\n",
       "<tr>\n",
       "  <th>zipcode_98107</th>  <td> 1.066e+05</td> <td> 8218.141</td> <td>   12.968</td> <td> 0.000</td> <td> 9.05e+04</td> <td> 1.23e+05</td>\n",
       "</tr>\n",
       "<tr>\n",
       "  <th>zipcode_98108</th>  <td>-8.014e+04</td> <td> 7582.158</td> <td>  -10.570</td> <td> 0.000</td> <td> -9.5e+04</td> <td>-6.53e+04</td>\n",
       "</tr>\n",
       "<tr>\n",
       "  <th>zipcode_98109</th>  <td> 2.388e+05</td> <td> 1.07e+04</td> <td>   22.222</td> <td> 0.000</td> <td> 2.18e+05</td> <td>  2.6e+05</td>\n",
       "</tr>\n",
       "<tr>\n",
       "  <th>zipcode_98112</th>  <td> 2.899e+05</td> <td> 7452.937</td> <td>   38.892</td> <td> 0.000</td> <td> 2.75e+05</td> <td> 3.04e+05</td>\n",
       "</tr>\n",
       "<tr>\n",
       "  <th>zipcode_98115</th>  <td> 1.177e+05</td> <td> 6348.243</td> <td>   18.539</td> <td> 0.000</td> <td> 1.05e+05</td> <td>  1.3e+05</td>\n",
       "</tr>\n",
       "<tr>\n",
       "  <th>zipcode_98116</th>  <td>  9.14e+04</td> <td> 6824.930</td> <td>   13.392</td> <td> 0.000</td> <td>  7.8e+04</td> <td> 1.05e+05</td>\n",
       "</tr>\n",
       "<tr>\n",
       "  <th>zipcode_98117</th>  <td> 9.597e+04</td> <td> 7049.720</td> <td>   13.614</td> <td> 0.000</td> <td> 8.22e+04</td> <td>  1.1e+05</td>\n",
       "</tr>\n",
       "<tr>\n",
       "  <th>zipcode_98118</th>  <td>-2.839e+04</td> <td> 4758.867</td> <td>   -5.965</td> <td> 0.000</td> <td>-3.77e+04</td> <td>-1.91e+04</td>\n",
       "</tr>\n",
       "<tr>\n",
       "  <th>zipcode_98119</th>  <td> 2.262e+05</td> <td> 8678.673</td> <td>   26.064</td> <td> 0.000</td> <td> 2.09e+05</td> <td> 2.43e+05</td>\n",
       "</tr>\n",
       "<tr>\n",
       "  <th>zipcode_98122</th>  <td> 1.166e+05</td> <td> 6366.647</td> <td>   18.308</td> <td> 0.000</td> <td> 1.04e+05</td> <td> 1.29e+05</td>\n",
       "</tr>\n",
       "<tr>\n",
       "  <th>zipcode_98125</th>  <td>-1.479e+04</td> <td> 7545.023</td> <td>   -1.960</td> <td> 0.050</td> <td>-2.96e+04</td> <td>   -2.871</td>\n",
       "</tr>\n",
       "<tr>\n",
       "  <th>zipcode_98126</th>  <td>-1.299e+04</td> <td> 6352.889</td> <td>   -2.045</td> <td> 0.041</td> <td>-2.54e+04</td> <td> -536.441</td>\n",
       "</tr>\n",
       "<tr>\n",
       "  <th>zipcode_98133</th>  <td> -6.28e+04</td> <td> 7837.394</td> <td>   -8.013</td> <td> 0.000</td> <td>-7.82e+04</td> <td>-4.74e+04</td>\n",
       "</tr>\n",
       "<tr>\n",
       "  <th>zipcode_98136</th>  <td> 5.674e+04</td> <td> 7205.541</td> <td>    7.874</td> <td> 0.000</td> <td> 4.26e+04</td> <td> 7.09e+04</td>\n",
       "</tr>\n",
       "<tr>\n",
       "  <th>zipcode_98144</th>  <td>  5.69e+04</td> <td> 5639.356</td> <td>   10.089</td> <td> 0.000</td> <td> 4.58e+04</td> <td>  6.8e+04</td>\n",
       "</tr>\n",
       "<tr>\n",
       "  <th>zipcode_98146</th>  <td>-7.673e+04</td> <td> 7151.694</td> <td>  -10.729</td> <td> 0.000</td> <td>-9.07e+04</td> <td>-6.27e+04</td>\n",
       "</tr>\n",
       "<tr>\n",
       "  <th>zipcode_98148</th>  <td>-1.117e+05</td> <td> 1.45e+04</td> <td>   -7.675</td> <td> 0.000</td> <td> -1.4e+05</td> <td>-8.31e+04</td>\n",
       "</tr>\n",
       "<tr>\n",
       "  <th>zipcode_98155</th>  <td>-7.469e+04</td> <td> 8145.670</td> <td>   -9.170</td> <td> 0.000</td> <td>-9.07e+04</td> <td>-5.87e+04</td>\n",
       "</tr>\n",
       "<tr>\n",
       "  <th>zipcode_98166</th>  <td>-8.042e+04</td> <td> 8604.459</td> <td>   -9.346</td> <td> 0.000</td> <td>-9.73e+04</td> <td>-6.35e+04</td>\n",
       "</tr>\n",
       "<tr>\n",
       "  <th>zipcode_98168</th>  <td>-1.301e+05</td> <td> 7560.295</td> <td>  -17.206</td> <td> 0.000</td> <td>-1.45e+05</td> <td>-1.15e+05</td>\n",
       "</tr>\n",
       "<tr>\n",
       "  <th>zipcode_98177</th>  <td> 1.078e+04</td> <td> 8589.540</td> <td>    1.255</td> <td> 0.209</td> <td>-6056.237</td> <td> 2.76e+04</td>\n",
       "</tr>\n",
       "<tr>\n",
       "  <th>zipcode_98178</th>  <td>-1.326e+05</td> <td> 7847.299</td> <td>  -16.897</td> <td> 0.000</td> <td>-1.48e+05</td> <td>-1.17e+05</td>\n",
       "</tr>\n",
       "<tr>\n",
       "  <th>zipcode_98188</th>  <td>-1.369e+05</td> <td> 1.08e+04</td> <td>  -12.684</td> <td> 0.000</td> <td>-1.58e+05</td> <td>-1.16e+05</td>\n",
       "</tr>\n",
       "<tr>\n",
       "  <th>zipcode_98198</th>  <td>-1.407e+05</td> <td> 1.07e+04</td> <td>  -13.124</td> <td> 0.000</td> <td>-1.62e+05</td> <td> -1.2e+05</td>\n",
       "</tr>\n",
       "<tr>\n",
       "  <th>zipcode_98199</th>  <td>  1.72e+05</td> <td> 6096.663</td> <td>   28.208</td> <td> 0.000</td> <td>  1.6e+05</td> <td> 1.84e+05</td>\n",
       "</tr>\n",
       "</table>\n",
       "<table class=\"simpletable\">\n",
       "<tr>\n",
       "  <th>Omnibus:</th>       <td>3429.303</td> <th>  Durbin-Watson:     </th> <td>   1.986</td> \n",
       "</tr>\n",
       "<tr>\n",
       "  <th>Prob(Omnibus):</th>  <td> 0.000</td>  <th>  Jarque-Bera (JB):  </th> <td>16731.111</td>\n",
       "</tr>\n",
       "<tr>\n",
       "  <th>Skew:</th>           <td> 0.711</td>  <th>  Prob(JB):          </th> <td>    0.00</td> \n",
       "</tr>\n",
       "<tr>\n",
       "  <th>Kurtosis:</th>       <td> 7.130</td>  <th>  Cond. No.          </th> <td>6.20e+20</td> \n",
       "</tr>\n",
       "</table><br/><br/>Warnings:<br/>[1] Standard Errors assume that the covariance matrix of the errors is correctly specified.<br/>[2] The smallest eigenvalue is 5.28e-28. This might indicate that there are<br/>strong multicollinearity problems or that the design matrix is singular."
      ],
      "text/plain": [
       "<class 'statsmodels.iolib.summary.Summary'>\n",
       "\"\"\"\n",
       "                            OLS Regression Results                            \n",
       "==============================================================================\n",
       "Dep. Variable:                  price   R-squared:                       0.834\n",
       "Model:                            OLS   Adj. R-squared:                  0.833\n",
       "Method:                 Least Squares   F-statistic:                     1158.\n",
       "Date:                Tue, 26 Jan 2021   Prob (F-statistic):               0.00\n",
       "Time:                        12:40:43   Log-Likelihood:            -2.7223e+05\n",
       "No. Observations:               21047   AIC:                         5.446e+05\n",
       "Df Residuals:                   20955   BIC:                         5.454e+05\n",
       "Df Model:                          91                                         \n",
       "Covariance Type:            nonrobust                                         \n",
       "==================================================================================\n",
       "                     coef    std err          t      P>|t|      [0.025      0.975]\n",
       "----------------------------------------------------------------------------------\n",
       "Intercept       -286.7072     42.982     -6.670      0.000    -370.956    -202.459\n",
       "bathrooms       1.782e+04   1726.250     10.324      0.000    1.44e+04    2.12e+04\n",
       "sqft_living      124.3132      1.791     69.393      0.000     120.802     127.825\n",
       "floors         -1.491e+04   1960.440     -7.604      0.000   -1.88e+04   -1.11e+04\n",
       "waterfront       2.39e+05   1.27e+04     18.801      0.000    2.14e+05    2.64e+05\n",
       "view            4.348e+04   1133.259     38.370      0.000    4.13e+04    4.57e+04\n",
       "yr_built        -507.2213     41.812    -12.131      0.000    -589.176    -425.267\n",
       "zipcode         -138.8392     39.537     -3.512      0.000    -216.334     -61.344\n",
       "lat              1.39e+05   4.01e+04      3.465      0.001    6.04e+04    2.18e+05\n",
       "long           -6.735e+04   2.87e+04     -2.347      0.019   -1.24e+05   -1.11e+04\n",
       "bed2            4.974e+04   6766.132      7.351      0.000    3.65e+04     6.3e+04\n",
       "bed3            5.509e+04   6324.000      8.711      0.000    4.27e+04    6.75e+04\n",
       "bed4            5.144e+04   6192.404      8.307      0.000    3.93e+04    6.36e+04\n",
       "bed5            3.655e+04   6513.654      5.612      0.000    2.38e+04    4.93e+04\n",
       "con2_under     -3.908e+04   5498.601     -7.108      0.000   -4.99e+04   -2.83e+04\n",
       "con3           -9630.9989   2156.470     -4.466      0.000   -1.39e+04   -5404.151\n",
       "con4            7557.2128   2195.057      3.443      0.001    3254.731    1.19e+04\n",
       "con5            4.087e+04   2687.990     15.205      0.000    3.56e+04    4.61e+04\n",
       "grade5_under   -8.562e+04   5649.712    -15.154      0.000   -9.67e+04   -7.45e+04\n",
       "grade6         -8.473e+04   2724.692    -31.097      0.000   -9.01e+04   -7.94e+04\n",
       "grade7         -6.226e+04   1747.797    -35.623      0.000   -6.57e+04   -5.88e+04\n",
       "grade8         -1.724e+04   1810.674     -9.519      0.000   -2.08e+04   -1.37e+04\n",
       "grade9          7.331e+04   2511.512     29.188      0.000    6.84e+04    7.82e+04\n",
       "grade10_up      1.763e+05   3611.730     48.800      0.000    1.69e+05    1.83e+05\n",
       "been_renovated  1.868e+04   2084.676      8.962      0.000    1.46e+04    2.28e+04\n",
       "not_renovated  -1.897e+04   2086.832     -9.090      0.000   -2.31e+04   -1.49e+04\n",
       "has_basement   -1.214e+04    910.028    -13.336      0.000   -1.39e+04   -1.04e+04\n",
       "no_basement     1.185e+04    901.108     13.150      0.000    1.01e+04    1.36e+04\n",
       "zipcode_98001  -1.693e+05   1.11e+04    -15.274      0.000   -1.91e+05   -1.48e+05\n",
       "zipcode_98002  -1.624e+05   1.15e+04    -14.153      0.000   -1.85e+05    -1.4e+05\n",
       "zipcode_98003   -1.79e+05   1.18e+04    -15.218      0.000   -2.02e+05   -1.56e+05\n",
       "zipcode_98004   3.815e+05   8226.414     46.373      0.000    3.65e+05    3.98e+05\n",
       "zipcode_98005   1.271e+05   8801.291     14.446      0.000     1.1e+05    1.44e+05\n",
       "zipcode_98006   8.419e+04   5099.593     16.509      0.000    7.42e+04    9.42e+04\n",
       "zipcode_98007   5.551e+04   9184.643      6.044      0.000    3.75e+04    7.35e+04\n",
       "zipcode_98008   4.552e+04   7182.516      6.338      0.000    3.14e+04    5.96e+04\n",
       "zipcode_98010  -7.074e+04   1.29e+04     -5.497      0.000    -9.6e+04   -4.55e+04\n",
       "zipcode_98011  -7.962e+04   1.19e+04     -6.709      0.000   -1.03e+05   -5.64e+04\n",
       "zipcode_98014  -7.272e+04   1.38e+04     -5.253      0.000   -9.99e+04   -4.56e+04\n",
       "zipcode_98019  -9.395e+04   1.26e+04     -7.451      0.000   -1.19e+05   -6.92e+04\n",
       "zipcode_98022  -1.284e+05   1.46e+04     -8.780      0.000   -1.57e+05   -9.97e+04\n",
       "zipcode_98023  -1.952e+05   1.21e+04    -16.150      0.000   -2.19e+05   -1.71e+05\n",
       "zipcode_98024  -8639.0997   1.36e+04     -0.637      0.524   -3.52e+04    1.79e+04\n",
       "zipcode_98027   1.287e+04   5869.294      2.192      0.028    1361.422    2.44e+04\n",
       "zipcode_98028  -9.009e+04    1.1e+04     -8.167      0.000   -1.12e+05   -6.85e+04\n",
       "zipcode_98029   4.197e+04   7210.809      5.820      0.000    2.78e+04    5.61e+04\n",
       "zipcode_98030  -1.597e+05   9159.187    -17.441      0.000   -1.78e+05   -1.42e+05\n",
       "zipcode_98031   -1.57e+05   8069.893    -19.451      0.000   -1.73e+05   -1.41e+05\n",
       "zipcode_98032  -1.801e+05   1.17e+04    -15.457      0.000   -2.03e+05   -1.57e+05\n",
       "zipcode_98033   1.307e+05   7797.256     16.764      0.000    1.15e+05    1.46e+05\n",
       "zipcode_98034  -2.576e+04   8780.142     -2.934      0.003    -4.3e+04   -8555.145\n",
       "zipcode_98038  -1.089e+05   8482.328    -12.838      0.000   -1.26e+05   -9.23e+04\n",
       "zipcode_98039    5.58e+05   2.59e+04     21.532      0.000    5.07e+05    6.09e+05\n",
       "zipcode_98040   2.588e+05   7093.817     36.488      0.000    2.45e+05    2.73e+05\n",
       "zipcode_98042  -1.484e+05   8184.176    -18.131      0.000   -1.64e+05   -1.32e+05\n",
       "zipcode_98045  -4.193e+04   1.37e+04     -3.060      0.002   -6.88e+04   -1.51e+04\n",
       "zipcode_98052   5.209e+04   7331.246      7.106      0.000    3.77e+04    6.65e+04\n",
       "zipcode_98053   5.025e+04   9014.897      5.574      0.000    3.26e+04    6.79e+04\n",
       "zipcode_98055  -1.377e+05   7038.795    -19.567      0.000   -1.52e+05   -1.24e+05\n",
       "zipcode_98056  -9.208e+04   5252.498    -17.531      0.000   -1.02e+05   -8.18e+04\n",
       "zipcode_98058  -1.335e+05   6241.626    -21.384      0.000   -1.46e+05   -1.21e+05\n",
       "zipcode_98059  -6.373e+04   5346.774    -11.920      0.000   -7.42e+04   -5.33e+04\n",
       "zipcode_98065  -3.773e+04   1.11e+04     -3.385      0.001   -5.96e+04   -1.59e+04\n",
       "zipcode_98070  -8.338e+04   1.34e+04     -6.235      0.000    -1.1e+05   -5.72e+04\n",
       "zipcode_98072  -2.654e+04   1.04e+04     -2.555      0.011   -4.69e+04   -6182.242\n",
       "zipcode_98074   1.646e+04   7474.730      2.202      0.028    1808.063    3.11e+04\n",
       "zipcode_98075   4.248e+04   7855.986      5.407      0.000    2.71e+04    5.79e+04\n",
       "zipcode_98077   -2.46e+04   1.16e+04     -2.118      0.034   -4.74e+04   -1839.088\n",
       "zipcode_98092  -1.615e+05   1.17e+04    -13.762      0.000   -1.84e+05   -1.38e+05\n",
       "zipcode_98102   2.275e+05   1.08e+04     21.003      0.000    2.06e+05    2.49e+05\n",
       "zipcode_98103   1.106e+05   6714.848     16.468      0.000    9.74e+04    1.24e+05\n",
       "zipcode_98105   2.201e+05   8159.126     26.976      0.000    2.04e+05    2.36e+05\n",
       "zipcode_98106  -7.997e+04   6554.042    -12.201      0.000   -9.28e+04   -6.71e+04\n",
       "zipcode_98107   1.066e+05   8218.141     12.968      0.000    9.05e+04    1.23e+05\n",
       "zipcode_98108  -8.014e+04   7582.158    -10.570      0.000    -9.5e+04   -6.53e+04\n",
       "zipcode_98109   2.388e+05   1.07e+04     22.222      0.000    2.18e+05     2.6e+05\n",
       "zipcode_98112   2.899e+05   7452.937     38.892      0.000    2.75e+05    3.04e+05\n",
       "zipcode_98115   1.177e+05   6348.243     18.539      0.000    1.05e+05     1.3e+05\n",
       "zipcode_98116    9.14e+04   6824.930     13.392      0.000     7.8e+04    1.05e+05\n",
       "zipcode_98117   9.597e+04   7049.720     13.614      0.000    8.22e+04     1.1e+05\n",
       "zipcode_98118  -2.839e+04   4758.867     -5.965      0.000   -3.77e+04   -1.91e+04\n",
       "zipcode_98119   2.262e+05   8678.673     26.064      0.000    2.09e+05    2.43e+05\n",
       "zipcode_98122   1.166e+05   6366.647     18.308      0.000    1.04e+05    1.29e+05\n",
       "zipcode_98125  -1.479e+04   7545.023     -1.960      0.050   -2.96e+04      -2.871\n",
       "zipcode_98126  -1.299e+04   6352.889     -2.045      0.041   -2.54e+04    -536.441\n",
       "zipcode_98133   -6.28e+04   7837.394     -8.013      0.000   -7.82e+04   -4.74e+04\n",
       "zipcode_98136   5.674e+04   7205.541      7.874      0.000    4.26e+04    7.09e+04\n",
       "zipcode_98144    5.69e+04   5639.356     10.089      0.000    4.58e+04     6.8e+04\n",
       "zipcode_98146  -7.673e+04   7151.694    -10.729      0.000   -9.07e+04   -6.27e+04\n",
       "zipcode_98148  -1.117e+05   1.45e+04     -7.675      0.000    -1.4e+05   -8.31e+04\n",
       "zipcode_98155  -7.469e+04   8145.670     -9.170      0.000   -9.07e+04   -5.87e+04\n",
       "zipcode_98166  -8.042e+04   8604.459     -9.346      0.000   -9.73e+04   -6.35e+04\n",
       "zipcode_98168  -1.301e+05   7560.295    -17.206      0.000   -1.45e+05   -1.15e+05\n",
       "zipcode_98177   1.078e+04   8589.540      1.255      0.209   -6056.237    2.76e+04\n",
       "zipcode_98178  -1.326e+05   7847.299    -16.897      0.000   -1.48e+05   -1.17e+05\n",
       "zipcode_98188  -1.369e+05   1.08e+04    -12.684      0.000   -1.58e+05   -1.16e+05\n",
       "zipcode_98198  -1.407e+05   1.07e+04    -13.124      0.000   -1.62e+05    -1.2e+05\n",
       "zipcode_98199    1.72e+05   6096.663     28.208      0.000     1.6e+05    1.84e+05\n",
       "==============================================================================\n",
       "Omnibus:                     3429.303   Durbin-Watson:                   1.986\n",
       "Prob(Omnibus):                  0.000   Jarque-Bera (JB):            16731.111\n",
       "Skew:                           0.711   Prob(JB):                         0.00\n",
       "Kurtosis:                       7.130   Cond. No.                     6.20e+20\n",
       "==============================================================================\n",
       "\n",
       "Warnings:\n",
       "[1] Standard Errors assume that the covariance matrix of the errors is correctly specified.\n",
       "[2] The smallest eigenvalue is 5.28e-28. This might indicate that there are\n",
       "strong multicollinearity problems or that the design matrix is singular.\n",
       "\"\"\""
      ]
     },
     "execution_count": 61,
     "metadata": {},
     "output_type": "execute_result"
    }
   ],
   "source": [
    "model3 = ols(formula= f, data = df_zip_dummies).fit()\n",
    "model3.summary()"
   ]
  },
  {
   "cell_type": "code",
   "execution_count": 62,
   "metadata": {
    "ExecuteTime": {
     "end_time": "2021-01-26T19:40:43.722250Z",
     "start_time": "2021-01-26T19:40:43.442659Z"
    }
   },
   "outputs": [
    {
     "name": "stdout",
     "output_type": "stream",
     "text": [
      "Train MSE: 17748089207.067085\n",
      "Test MSE: 17161338555.255793\n",
      "RMSE Train: 133221.95467364637\n",
      "RMSE Test: 131001.2921892597\n"
     ]
    },
    {
     "data": {
      "image/png": "[encoded data removed]",
      "text/plain": [
       "<Figure size 432x288 with 1 Axes>"
      ]
     },
     "execution_count": 62,
     "metadata": {},
     "output_type": "execute_result"
    },
    {
     "data": {
      "image/png": "[encoded data removed]",
      "text/plain": [
       "<Figure size 432x288 with 1 Axes>"
      ]
     },
     "metadata": {
      "needs_background": "light"
     },
     "output_type": "display_data"
    }
   ],
   "source": [
    "\n",
    "y = data['price']\n",
    "X = data.drop(['price', 'id', 'sqft_above', 'sqft_lot15', 'date',\n",
    "                  'sqft_living15', 'sqft_lot'], axis = 1)\n",
    "\n",
    "X_train, X_test, y_train, y_test = train_test_split(X, y, test_size = 0.2)\n",
    "\n",
    "len(X_test)\n",
    "\n",
    "linreg = LinearRegression()\n",
    "linreg.fit(X_train, y_train)\n",
    "\n",
    "y_hat_train = linreg.predict(X_train)\n",
    "y_hat_test = linreg.predict(X_test)\n",
    "\n",
    "\n",
    "mse_train = mean_squared_error(y_train, y_hat_train)\n",
    "mse_test = mean_squared_error(y_test, y_hat_test)\n",
    "\n",
    "print('Train MSE:', mse_train)\n",
    "print('Test MSE:', mse_test)\n",
    "\n",
    "print('RMSE Train:', np.sqrt(mse_train))\n",
    "print('RMSE Test:', np.sqrt(mse_test))\n",
    "\n",
    "r2_score(y_test, y_hat_test)\n",
    "\n",
    "residuals = (y_test - y_hat_test)\n",
    "\n",
    "statsmodels.graphics.gofplots.qqplot(residuals, line = \"r\")"
   ]
  },
  {
   "cell_type": "code",
   "execution_count": null,
   "metadata": {},
   "outputs": [],
   "source": []
  }
 ],
 "metadata": {
  "kernelspec": {
   "display_name": "Python 3",
   "language": "python",
   "name": "python3"
  },
  "language_info": {
   "codemirror_mode": {
    "name": "ipython",
    "version": 3
   },
   "file_extension": ".py",
   "mimetype": "text/x-python",
   "name": "python",
   "nbconvert_exporter": "python",
   "pygments_lexer": "ipython3",
   "version": "3.8.3"
  },
  "toc": {
   "base_numbering": 1,
   "nav_menu": {},
   "number_sections": true,
   "sideBar": true,
   "skip_h1_title": false,
   "title_cell": "Table of Contents",
   "title_sidebar": "Contents",
   "toc_cell": false,
   "toc_position": {},
   "toc_section_display": true,
   "toc_window_display": false
  },
  "varInspector": {
   "cols": {
    "lenName": 16,
    "lenType": 16,
    "lenVar": 40
   },
   "kernels_config": {
    "python": {
     "delete_cmd_postfix": "",
     "delete_cmd_prefix": "del ",
     "library": "var_list.py",
     "varRefreshCmd": "print(var_dic_list())"
    },
    "r": {
     "delete_cmd_postfix": ") ",
     "delete_cmd_prefix": "rm(",
     "library": "var_list.r",
     "varRefreshCmd": "cat(var_dic_list()) "
    }
   },
   "types_to_exclude": [
    "module",
    "function",
    "builtin_function_or_method",
    "instance",
    "_Feature"
   ],
   "window_display": false
  }
 },
 "nbformat": 4,
 "nbformat_minor": 4
}
