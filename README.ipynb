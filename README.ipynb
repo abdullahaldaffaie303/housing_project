{
 "cells": [
  {
   "cell_type": "markdown",
   "metadata": {
    "ExecuteTime": {
     "end_time": "2021-01-26T20:15:24.548423Z",
     "start_time": "2021-01-26T20:15:24.545693Z"
    }
   },
   "source": [
    "# Project Description:\n"
   ]
  },
  {
   "cell_type": "markdown",
   "metadata": {
    "ExecuteTime": {
     "end_time": "2021-01-26T20:15:46.284299Z",
     "start_time": "2021-01-26T20:15:46.278835Z"
    }
   },
   "source": [
    "Analyzing house sales in King County to built a model to predict house values\n"
   ]
  },
  {
   "cell_type": "markdown",
   "metadata": {},
   "source": [
    "## Data \n"
   ]
  },
  {
   "cell_type": "markdown",
   "metadata": {},
   "source": [
    "House Sales from:\n",
    "\n",
    "1. King County house sale prices \n",
    "2. King county grade system"
   ]
  },
  {
   "cell_type": "markdown",
   "metadata": {},
   "source": [
    "## Key Findings"
   ]
  },
  {
   "cell_type": "markdown",
   "metadata": {},
   "source": [
    "### How renovation might affect the estimate value of a home \n",
    "### And by what dollar amount ?\n"
   ]
  },
  {
   "cell_type": "markdown",
   "metadata": {},
   "source": [
    "Looked into the data from king county, built the first modle to predict house\n",
    "prices using all the columns from the data as my base model.started cleaning \n",
    "the data by getting rid of outliers and got rid of some of the columns i thought \n",
    "not useful to answer my questions. R squared dropped significantly Pvalues we good. \n",
    "for my third model i made zipcode dummies and added back some of the columns i dropped for model2.The R squared now is more than 80% and it shows high coefficient between \n",
    "price and the condition of the home and renovation."
   ]
  },
  {
   "cell_type": "markdown",
   "metadata": {},
   "source": [
    "Here are our key findings:\n"
   ]
  },
  {
   "cell_type": "markdown",
   "metadata": {},
   "source": [
    "- The better condition the home in the more value\n",
    "- Renovation homes is highly recommended\n",
    "- Renovation increased the value by $18,680"
   ]
  },
  {
   "cell_type": "markdown",
   "metadata": {},
   "source": [
    "**recommendations**\n"
   ]
  },
  {
   "cell_type": "markdown",
   "metadata": {
    "ExecuteTime": {
     "end_time": "2021-01-26T20:20:55.516647Z",
     "start_time": "2021-01-26T20:20:55.512277Z"
    }
   },
   "source": [
    "- Renovate home before listing\n",
    "- Consider adding a bathroom as part of renovating"
   ]
  },
  {
   "cell_type": "markdown",
   "metadata": {
    "ExecuteTime": {
     "end_time": "2021-01-27T15:47:03.140962Z",
     "start_time": "2021-01-27T15:47:02.999575Z"
    }
   },
   "source": [
    "![condition_price](images/c.png)"
   ]
  },
  {
   "cell_type": "markdown",
   "metadata": {},
   "source": [
    "### How does the official king county home grade affect the value ?\n"
   ]
  },
  {
   "cell_type": "markdown",
   "metadata": {},
   "source": [
    "Looked into the data from king county, built the first modle to predict\n",
    "house prices using all the columns from the data as my base model.started \n",
    "cleaning the data by getting rid of outliers and got rid of some of the \n",
    "columns i thought not useful to answer my questions. R squared dropped \n",
    "significantly Pvalues we good. for my third model i made zipcode dummies \n",
    "and added back some of the columns i dropped for model2.The R squared now \n",
    "is more than 80% and it shows high coefficient between price and the grade\n",
    "the home received through the county system."
   ]
  },
  {
   "cell_type": "markdown",
   "metadata": {},
   "source": [
    "Here are our findings:\n"
   ]
  },
  {
   "cell_type": "markdown",
   "metadata": {},
   "source": [
    "- Higher grade increase home value.\n",
    "- Homes with grade of 9 and above increased in value by ≥ $73,310"
   ]
  },
  {
   "cell_type": "markdown",
   "metadata": {},
   "source": [
    "**Recommendation**\n"
   ]
  },
  {
   "cell_type": "markdown",
   "metadata": {},
   "source": [
    " Factor in the king county grade when pricing home because you can price \n",
    "the home higher based on a grade of 8 or above"
   ]
  },
  {
   "cell_type": "markdown",
   "metadata": {
    "ExecuteTime": {
     "start_time": "2021-01-27T15:56:35.801Z"
    }
   },
   "source": [
    "![grade_price](images/g.png)"
   ]
  },
  {
   "cell_type": "markdown",
   "metadata": {},
   "source": [
    "### How much will adding a bathroom increase the value?\n"
   ]
  },
  {
   "cell_type": "markdown",
   "metadata": {},
   "source": [
    "Looked into the data from king county, built the first modle to predict\n",
    "house prices using all the columns from the data as my base model.started \n",
    "cleaning the data by getting rid of outliers and got rid of some of the \n",
    "columns i thought not useful to answer my questions. R squared dropped \n",
    "significantly Pvalues we good. for my third model i made zipcode dummies \n",
    "and added back some of the columns i dropped for model2.The R squared now \n",
    "is more than 80% and it shows high coefficient between price and the number\n",
    "of bathrooms the house has."
   ]
  },
  {
   "cell_type": "markdown",
   "metadata": {},
   "source": [
    "Here are our findings:\n"
   ]
  },
  {
   "cell_type": "markdown",
   "metadata": {},
   "source": [
    "- Bathrooms has a positive correlation with the price\n",
    "- Adding one bathroom increase home value by $17,820\n",
    "- Homes with more than 6 bathrooms not desirable the price reflect that"
   ]
  },
  {
   "cell_type": "markdown",
   "metadata": {},
   "source": [
    "***Recommendation***\n"
   ]
  },
  {
   "cell_type": "markdown",
   "metadata": {},
   "source": [
    "- Renovate home before listing\n",
    "- Consider adding a bathroom as part of renovating\n",
    "- Factor in the king county grade when pricing home because you can price the \n",
    "  home higher based on a grade of 8 or above"
   ]
  },
  {
   "cell_type": "markdown",
   "metadata": {},
   "source": [
    "![bathroom_price](images/B.png)"
   ]
  }
 ],
 "metadata": {
  "kernelspec": {
   "display_name": "Python 3",
   "language": "python",
   "name": "python3"
  },
  "language_info": {
   "codemirror_mode": {
    "name": "ipython",
    "version": 3
   },
   "file_extension": ".py",
   "mimetype": "text/x-python",
   "name": "python",
   "nbconvert_exporter": "python",
   "pygments_lexer": "ipython3",
   "version": "3.8.5"
  },
  "toc": {
   "base_numbering": 1,
   "nav_menu": {},
   "number_sections": true,
   "sideBar": true,
   "skip_h1_title": false,
   "title_cell": "Table of Contents",
   "title_sidebar": "Contents",
   "toc_cell": false,
   "toc_position": {},
   "toc_section_display": true,
   "toc_window_display": false
  },
  "varInspector": {
   "cols": {
    "lenName": 16,
    "lenType": 16,
    "lenVar": 40
   },
   "kernels_config": {
    "python": {
     "delete_cmd_postfix": "",
     "delete_cmd_prefix": "del ",
     "library": "var_list.py",
     "varRefreshCmd": "print(var_dic_list())"
    },
    "r": {
     "delete_cmd_postfix": ") ",
     "delete_cmd_prefix": "rm(",
     "library": "var_list.r",
     "varRefreshCmd": "cat(var_dic_list()) "
    }
   },
   "types_to_exclude": [
    "module",
    "function",
    "builtin_function_or_method",
    "instance",
    "_Feature"
   ],
   "window_display": false
  }
 },
 "nbformat": 4,
 "nbformat_minor": 4
}
